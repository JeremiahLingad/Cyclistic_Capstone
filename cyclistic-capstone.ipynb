{
 "cells": [
  {
   "cell_type": "code",
   "execution_count": 1,
   "id": "d6a9bce7",
   "metadata": {
    "execution": {
     "iopub.execute_input": "2025-01-03T18:14:41.898311Z",
     "iopub.status.busy": "2025-01-03T18:14:41.895758Z",
     "iopub.status.idle": "2025-01-03T18:17:54.537121Z",
     "shell.execute_reply": "2025-01-03T18:17:54.534932Z"
    },
    "papermill": {
     "duration": 192.649414,
     "end_time": "2025-01-03T18:17:54.540292",
     "exception": false,
     "start_time": "2025-01-03T18:14:41.890878",
     "status": "completed"
    },
    "tags": []
   },
   "outputs": [
    {
     "name": "stderr",
     "output_type": "stream",
     "text": [
      "Installing package into ‘/usr/local/lib/R/site-library’\n",
      "(as ‘lib’ is unspecified)\n",
      "\n"
     ]
    },
    {
     "name": "stderr",
     "output_type": "stream",
     "text": [
      "Warning message:\n",
      "“unable to access index for repository http://cran.rstudio.com/src/contrib:\n",
      "  cannot open URL 'http://cran.rstudio.com/src/contrib/PACKAGES'”\n"
     ]
    },
    {
     "name": "stderr",
     "output_type": "stream",
     "text": [
      "Warning message:\n",
      "“package ‘tidyverse’ is not available for this version of R\n",
      "\n",
      "A version of this package for your version of R might be available elsewhere,\n",
      "see the ideas at\n",
      "https://cran.r-project.org/doc/manuals/r-patched/R-admin.html#Installing-packages”\n"
     ]
    },
    {
     "name": "stderr",
     "output_type": "stream",
     "text": [
      "Installing package into ‘/usr/local/lib/R/site-library’\n",
      "(as ‘lib’ is unspecified)\n",
      "\n"
     ]
    },
    {
     "name": "stderr",
     "output_type": "stream",
     "text": [
      "Warning message:\n",
      "“unable to access index for repository http://cran.rstudio.com/src/contrib:\n",
      "  cannot open URL 'http://cran.rstudio.com/src/contrib/PACKAGES'”\n"
     ]
    },
    {
     "name": "stderr",
     "output_type": "stream",
     "text": [
      "Warning message:\n",
      "“package ‘dplyr’ is not available for this version of R\n",
      "\n",
      "A version of this package for your version of R might be available elsewhere,\n",
      "see the ideas at\n",
      "https://cran.r-project.org/doc/manuals/r-patched/R-admin.html#Installing-packages”\n"
     ]
    }
   ],
   "source": [
    "install.packages(\"tidyverse\")\n",
    "install.packages(\"dplyr\")"
   ]
  },
  {
   "cell_type": "code",
   "execution_count": 2,
   "id": "2012ef76",
   "metadata": {
    "execution": {
     "iopub.execute_input": "2025-01-03T18:17:54.595428Z",
     "iopub.status.busy": "2025-01-03T18:17:54.556116Z",
     "iopub.status.idle": "2025-01-03T18:17:55.741255Z",
     "shell.execute_reply": "2025-01-03T18:17:55.739394Z"
    },
    "papermill": {
     "duration": 1.198919,
     "end_time": "2025-01-03T18:17:55.744252",
     "exception": false,
     "start_time": "2025-01-03T18:17:54.545333",
     "status": "completed"
    },
    "tags": []
   },
   "outputs": [
    {
     "name": "stderr",
     "output_type": "stream",
     "text": [
      "\n",
      "Attaching package: ‘dplyr’\n",
      "\n",
      "\n"
     ]
    },
    {
     "name": "stderr",
     "output_type": "stream",
     "text": [
      "The following objects are masked from ‘package:stats’:\n",
      "\n",
      "    filter, lag\n",
      "\n",
      "\n"
     ]
    },
    {
     "name": "stderr",
     "output_type": "stream",
     "text": [
      "The following objects are masked from ‘package:base’:\n",
      "\n",
      "    intersect, setdiff, setequal, union\n",
      "\n",
      "\n"
     ]
    },
    {
     "name": "stderr",
     "output_type": "stream",
     "text": [
      "── \u001b[1mAttaching core tidyverse packages\u001b[22m ──────────────────────── tidyverse 2.0.0 ──\n",
      "\u001b[32m✔\u001b[39m \u001b[34mforcats  \u001b[39m 1.0.0     \u001b[32m✔\u001b[39m \u001b[34mreadr    \u001b[39m 2.1.5\n",
      "\u001b[32m✔\u001b[39m \u001b[34mggplot2  \u001b[39m 3.5.1     \u001b[32m✔\u001b[39m \u001b[34mstringr  \u001b[39m 1.5.1\n",
      "\u001b[32m✔\u001b[39m \u001b[34mlubridate\u001b[39m 1.9.3     \u001b[32m✔\u001b[39m \u001b[34mtibble   \u001b[39m 3.2.1\n",
      "\u001b[32m✔\u001b[39m \u001b[34mpurrr    \u001b[39m 1.0.2     \u001b[32m✔\u001b[39m \u001b[34mtidyr    \u001b[39m 1.3.1\n"
     ]
    },
    {
     "name": "stderr",
     "output_type": "stream",
     "text": [
      "── \u001b[1mConflicts\u001b[22m ────────────────────────────────────────── tidyverse_conflicts() ──\n",
      "\u001b[31m✖\u001b[39m \u001b[34mdplyr\u001b[39m::\u001b[32mfilter()\u001b[39m masks \u001b[34mstats\u001b[39m::filter()\n",
      "\u001b[31m✖\u001b[39m \u001b[34mdplyr\u001b[39m::\u001b[32mlag()\u001b[39m    masks \u001b[34mstats\u001b[39m::lag()\n",
      "\u001b[36mℹ\u001b[39m Use the conflicted package (\u001b[3m\u001b[34m<http://conflicted.r-lib.org/>\u001b[39m\u001b[23m) to force all conflicts to become errors\n"
     ]
    }
   ],
   "source": [
    "library(dplyr)\n",
    "library(tidyverse)"
   ]
  },
  {
   "cell_type": "code",
   "execution_count": 3,
   "id": "84deb3cd",
   "metadata": {
    "execution": {
     "iopub.execute_input": "2025-01-03T18:17:55.753760Z",
     "iopub.status.busy": "2025-01-03T18:17:55.751769Z",
     "iopub.status.idle": "2025-01-03T18:18:06.473295Z",
     "shell.execute_reply": "2025-01-03T18:18:06.471478Z"
    },
    "papermill": {
     "duration": 10.728973,
     "end_time": "2025-01-03T18:18:06.476213",
     "exception": false,
     "start_time": "2025-01-03T18:17:55.747240",
     "status": "completed"
    },
    "tags": []
   },
   "outputs": [],
   "source": [
    "Divvy_Trips_2019_Q1 <- read.csv(\"../input/cyclistic-dataset/Divvy_Trips_2019_Q1.csv\")\n",
    "Divvy_Trips_2020_Q1 <- read.csv(\"../input/cyclistic-dataset/Divvy_Trips_2020_Q1.csv\")\n",
    "\n",
    "\n",
    "q1_2019 <- data.frame(Divvy_Trips_2019_Q1)\n",
    "q1_2020 <- data.frame(Divvy_Trips_2020_Q1)"
   ]
  },
  {
   "cell_type": "code",
   "execution_count": 4,
   "id": "65181736",
   "metadata": {
    "execution": {
     "iopub.execute_input": "2025-01-03T18:18:06.484946Z",
     "iopub.status.busy": "2025-01-03T18:18:06.483438Z",
     "iopub.status.idle": "2025-01-03T18:18:33.131795Z",
     "shell.execute_reply": "2025-01-03T18:18:33.129899Z"
    },
    "papermill": {
     "duration": 26.655606,
     "end_time": "2025-01-03T18:18:33.134517",
     "exception": false,
     "start_time": "2025-01-03T18:18:06.478911",
     "status": "completed"
    },
    "tags": []
   },
   "outputs": [
    {
     "data": {
      "text/html": [
       "<table class=\"dataframe\">\n",
       "<caption>A data.frame: 365069 × 12</caption>\n",
       "<thead>\n",
       "\t<tr><th scope=col>ride_id</th><th scope=col>started_at</th><th scope=col>ended_at</th><th scope=col>rideable_type</th><th scope=col>tripduration</th><th scope=col>start_station_id</th><th scope=col>start_station_name</th><th scope=col>end_station_id</th><th scope=col>end_station_name</th><th scope=col>member_casual</th><th scope=col>gender</th><th scope=col>birthyear</th></tr>\n",
       "\t<tr><th scope=col>&lt;int&gt;</th><th scope=col>&lt;chr&gt;</th><th scope=col>&lt;chr&gt;</th><th scope=col>&lt;int&gt;</th><th scope=col>&lt;chr&gt;</th><th scope=col>&lt;int&gt;</th><th scope=col>&lt;chr&gt;</th><th scope=col>&lt;int&gt;</th><th scope=col>&lt;chr&gt;</th><th scope=col>&lt;chr&gt;</th><th scope=col>&lt;chr&gt;</th><th scope=col>&lt;int&gt;</th></tr>\n",
       "</thead>\n",
       "<tbody>\n",
       "\t<tr><td>21742443</td><td>2019-01-01 0:04:37</td><td>2019-01-01 0:11:07</td><td>2167</td><td><span style=white-space:pre-wrap>390     </span></td><td>199</td><td><span style=white-space:pre-wrap>Wabash Ave &amp; Grand Ave             </span></td><td> 84</td><td><span style=white-space:pre-wrap>Milwaukee Ave &amp; Grand Ave     </span></td><td>Subscriber</td><td><span style=white-space:pre-wrap>Male  </span></td><td>1989</td></tr>\n",
       "\t<tr><td>21742444</td><td>2019-01-01 0:08:13</td><td>2019-01-01 0:15:34</td><td>4386</td><td><span style=white-space:pre-wrap>441     </span></td><td> 44</td><td><span style=white-space:pre-wrap>State St &amp; Randolph St             </span></td><td>624</td><td>Dearborn St &amp; Van Buren St (*)</td><td>Subscriber</td><td>Female</td><td>1990</td></tr>\n",
       "\t<tr><td>21742445</td><td>2019-01-01 0:13:23</td><td>2019-01-01 0:27:12</td><td>1524</td><td><span style=white-space:pre-wrap>829     </span></td><td> 15</td><td><span style=white-space:pre-wrap>Racine Ave &amp; 18th St               </span></td><td>644</td><td>Western Ave &amp; Fillmore St (*) </td><td>Subscriber</td><td>Female</td><td>1994</td></tr>\n",
       "\t<tr><td>21742446</td><td>2019-01-01 0:13:45</td><td>2019-01-01 0:43:28</td><td> 252</td><td>1,783.00</td><td>123</td><td><span style=white-space:pre-wrap>California Ave &amp; Milwaukee Ave     </span></td><td>176</td><td><span style=white-space:pre-wrap>Clark St &amp; Elm St             </span></td><td>Subscriber</td><td><span style=white-space:pre-wrap>Male  </span></td><td>1993</td></tr>\n",
       "\t<tr><td>21742447</td><td>2019-01-01 0:14:52</td><td>2019-01-01 0:20:56</td><td>1170</td><td><span style=white-space:pre-wrap>364     </span></td><td>173</td><td>Mies van der Rohe Way &amp; Chicago Ave</td><td> 35</td><td><span style=white-space:pre-wrap>Streeter Dr &amp; Grand Ave       </span></td><td>Subscriber</td><td><span style=white-space:pre-wrap>Male  </span></td><td>1994</td></tr>\n",
       "\t<tr><td>21742448</td><td>2019-01-01 0:15:33</td><td>2019-01-01 0:19:09</td><td>2437</td><td><span style=white-space:pre-wrap>216     </span></td><td> 98</td><td><span style=white-space:pre-wrap>LaSalle St &amp; Washington St         </span></td><td> 49</td><td><span style=white-space:pre-wrap>Dearborn St &amp; Monroe St       </span></td><td>Subscriber</td><td>Female</td><td>1983</td></tr>\n",
       "\t<tr><td>21742449</td><td>2019-01-01 0:16:06</td><td>2019-01-01 0:19:03</td><td>2708</td><td><span style=white-space:pre-wrap>177     </span></td><td> 98</td><td><span style=white-space:pre-wrap>LaSalle St &amp; Washington St         </span></td><td> 49</td><td><span style=white-space:pre-wrap>Dearborn St &amp; Monroe St       </span></td><td>Subscriber</td><td><span style=white-space:pre-wrap>Male  </span></td><td>1984</td></tr>\n",
       "\t<tr><td>21742450</td><td>2019-01-01 0:18:41</td><td>2019-01-01 0:20:21</td><td>2796</td><td><span style=white-space:pre-wrap>100     </span></td><td>211</td><td><span style=white-space:pre-wrap>St. Clair St &amp; Erie St             </span></td><td>142</td><td><span style=white-space:pre-wrap>McClurg Ct &amp; Erie St          </span></td><td>Subscriber</td><td><span style=white-space:pre-wrap>Male  </span></td><td>1990</td></tr>\n",
       "\t<tr><td>21742451</td><td>2019-01-01 0:18:43</td><td>2019-01-01 0:47:30</td><td>6205</td><td>1,727.00</td><td>150</td><td><span style=white-space:pre-wrap>Fort Dearborn Dr &amp; 31st St         </span></td><td>148</td><td><span style=white-space:pre-wrap>State St &amp; 33rd St            </span></td><td>Subscriber</td><td><span style=white-space:pre-wrap>Male  </span></td><td>1995</td></tr>\n",
       "\t<tr><td>21742452</td><td>2019-01-01 0:19:18</td><td>2019-01-01 0:24:54</td><td>3939</td><td><span style=white-space:pre-wrap>336     </span></td><td>268</td><td><span style=white-space:pre-wrap>Lake Shore Dr &amp; North Blvd         </span></td><td>141</td><td><span style=white-space:pre-wrap>Clark St &amp; Lincoln Ave        </span></td><td>Subscriber</td><td><span style=white-space:pre-wrap>Male  </span></td><td>1996</td></tr>\n",
       "\t<tr><td>21742453</td><td>2019-01-01 0:20:34</td><td>2019-01-01 0:35:20</td><td>6243</td><td><span style=white-space:pre-wrap>886     </span></td><td>299</td><td><span style=white-space:pre-wrap>Halsted St &amp; Roscoe St             </span></td><td>295</td><td><span style=white-space:pre-wrap>Broadway &amp; Argyle St          </span></td><td>Subscriber</td><td><span style=white-space:pre-wrap>Male  </span></td><td>1994</td></tr>\n",
       "\t<tr><td>21742454</td><td>2019-01-01 0:21:52</td><td>2019-01-01 0:32:45</td><td>6300</td><td><span style=white-space:pre-wrap>653     </span></td><td>204</td><td><span style=white-space:pre-wrap>Prairie Ave &amp; Garfield Blvd        </span></td><td>420</td><td><span style=white-space:pre-wrap>Ellis Ave &amp; 55th St           </span></td><td>Subscriber</td><td>Female</td><td>1994</td></tr>\n",
       "\t<tr><td>21742455</td><td>2019-01-01 0:23:04</td><td>2019-01-01 0:33:05</td><td>3029</td><td><span style=white-space:pre-wrap>601     </span></td><td> 90</td><td><span style=white-space:pre-wrap>Millennium Park                    </span></td><td>255</td><td><span style=white-space:pre-wrap>Indiana Ave &amp; Roosevelt Rd    </span></td><td>Subscriber</td><td><span style=white-space:pre-wrap>Male  </span></td><td>1986</td></tr>\n",
       "\t<tr><td>21742456</td><td>2019-01-01 0:23:43</td><td>2019-01-01 0:33:05</td><td><span style=white-space:pre-wrap>  84</span></td><td><span style=white-space:pre-wrap>562     </span></td><td> 90</td><td><span style=white-space:pre-wrap>Millennium Park                    </span></td><td>255</td><td><span style=white-space:pre-wrap>Indiana Ave &amp; Roosevelt Rd    </span></td><td><span style=white-space:pre-wrap>Customer  </span></td><td>Female</td><td>1990</td></tr>\n",
       "\t<tr><td>21742457</td><td>2019-01-01 0:23:54</td><td>2019-01-01 0:39:00</td><td>5019</td><td><span style=white-space:pre-wrap>906     </span></td><td>289</td><td><span style=white-space:pre-wrap>Wells St &amp; Concord Ln              </span></td><td>324</td><td><span style=white-space:pre-wrap>Stockton Dr &amp; Wrightwood Ave  </span></td><td>Subscriber</td><td>Female</td><td>1989</td></tr>\n",
       "\t<tr><td>21742458</td><td>2019-01-01 0:24:08</td><td>2019-01-01 0:39:00</td><td>5526</td><td><span style=white-space:pre-wrap>892     </span></td><td>289</td><td><span style=white-space:pre-wrap>Wells St &amp; Concord Ln              </span></td><td>324</td><td><span style=white-space:pre-wrap>Stockton Dr &amp; Wrightwood Ave  </span></td><td>Subscriber</td><td>Female</td><td>1989</td></tr>\n",
       "\t<tr><td>21742459</td><td>2019-01-01 0:24:13</td><td>2019-01-01 0:31:00</td><td>3373</td><td><span style=white-space:pre-wrap>407     </span></td><td>152</td><td><span style=white-space:pre-wrap>Lincoln Ave &amp; Diversey Pkwy        </span></td><td>166</td><td><span style=white-space:pre-wrap>Ashland Ave &amp; Wrightwood Ave  </span></td><td>Subscriber</td><td><span style=white-space:pre-wrap>Male  </span></td><td>1967</td></tr>\n",
       "\t<tr><td>21742460</td><td>2019-01-01 0:24:27</td><td>2019-01-01 0:47:03</td><td>5777</td><td>1,356.00</td><td>268</td><td><span style=white-space:pre-wrap>Lake Shore Dr &amp; North Blvd         </span></td><td>319</td><td>Greenview Ave &amp; Diversey Pkwy </td><td><span style=white-space:pre-wrap>Customer  </span></td><td>Female</td><td>1990</td></tr>\n",
       "\t<tr><td>21742461</td><td>2019-01-01 0:25:28</td><td>2019-01-01 0:27:10</td><td>3940</td><td><span style=white-space:pre-wrap>102     </span></td><td> 35</td><td><span style=white-space:pre-wrap>Streeter Dr &amp; Grand Ave            </span></td><td> 35</td><td><span style=white-space:pre-wrap>Streeter Dr &amp; Grand Ave       </span></td><td>Subscriber</td><td><span style=white-space:pre-wrap>Male  </span></td><td>1985</td></tr>\n",
       "\t<tr><td>21742463</td><td>2019-01-01 0:29:19</td><td>2019-01-01 1:08:12</td><td>3914</td><td>2,333.00</td><td> 35</td><td><span style=white-space:pre-wrap>Streeter Dr &amp; Grand Ave            </span></td><td> 39</td><td><span style=white-space:pre-wrap>Wabash Ave &amp; Adams St         </span></td><td><span style=white-space:pre-wrap>Customer  </span></td><td><span style=white-space:pre-wrap>      </span></td><td><span style=white-space:pre-wrap>  NA</span></td></tr>\n",
       "\t<tr><td>21742464</td><td>2019-01-01 0:29:21</td><td>2019-01-01 0:45:21</td><td> 140</td><td><span style=white-space:pre-wrap>960     </span></td><td> 47</td><td><span style=white-space:pre-wrap>State St &amp; Kinzie St               </span></td><td>111</td><td><span style=white-space:pre-wrap>Sedgwick St &amp; Huron St        </span></td><td>Subscriber</td><td><span style=white-space:pre-wrap>Male  </span></td><td>1957</td></tr>\n",
       "\t<tr><td>21742465</td><td>2019-01-01 0:29:28</td><td>2019-01-01 1:07:49</td><td>3355</td><td>2,301.00</td><td> 35</td><td><span style=white-space:pre-wrap>Streeter Dr &amp; Grand Ave            </span></td><td> 39</td><td><span style=white-space:pre-wrap>Wabash Ave &amp; Adams St         </span></td><td><span style=white-space:pre-wrap>Customer  </span></td><td><span style=white-space:pre-wrap>      </span></td><td><span style=white-space:pre-wrap>  NA</span></td></tr>\n",
       "\t<tr><td>21742466</td><td>2019-01-01 0:29:47</td><td>2019-01-01 0:49:15</td><td>5026</td><td>1,168.00</td><td> 85</td><td><span style=white-space:pre-wrap>Michigan Ave &amp; Oak St              </span></td><td>329</td><td>Lake Shore Dr &amp; Diversey Pkwy </td><td>Subscriber</td><td><span style=white-space:pre-wrap>Male  </span></td><td>1959</td></tr>\n",
       "\t<tr><td>21742467</td><td>2019-01-01 0:30:48</td><td>2019-01-01 0:38:42</td><td>1998</td><td><span style=white-space:pre-wrap>474     </span></td><td>289</td><td><span style=white-space:pre-wrap>Wells St &amp; Concord Ln              </span></td><td>313</td><td>Lakeview Ave &amp; Fullerton Pkwy </td><td>Subscriber</td><td><span style=white-space:pre-wrap>Male  </span></td><td>1994</td></tr>\n",
       "\t<tr><td>21742468</td><td>2019-01-01 0:33:09</td><td>2019-01-01 0:50:25</td><td>2630</td><td>1,036.00</td><td> 13</td><td><span style=white-space:pre-wrap>Wilton Ave &amp; Diversey Pkwy         </span></td><td> 61</td><td><span style=white-space:pre-wrap>Wood St &amp; Milwaukee Ave       </span></td><td>Subscriber</td><td><span style=white-space:pre-wrap>Male  </span></td><td>1991</td></tr>\n",
       "\t<tr><td>21742469</td><td>2019-01-01 0:34:35</td><td>2019-01-01 0:38:25</td><td>3722</td><td><span style=white-space:pre-wrap>230     </span></td><td>520</td><td><span style=white-space:pre-wrap>Greenview Ave &amp; Jarvis Ave         </span></td><td>523</td><td><span style=white-space:pre-wrap>Eastlake Ter &amp; Rogers Ave     </span></td><td>Subscriber</td><td><span style=white-space:pre-wrap>Male  </span></td><td>1961</td></tr>\n",
       "\t<tr><td>21742471</td><td>2019-01-01 0:38:11</td><td>2019-01-01 0:50:38</td><td>1166</td><td><span style=white-space:pre-wrap>747     </span></td><td>256</td><td><span style=white-space:pre-wrap>Broadway &amp; Sheridan Rd             </span></td><td>297</td><td><span style=white-space:pre-wrap>Paulina St &amp; Montrose Ave     </span></td><td>Subscriber</td><td><span style=white-space:pre-wrap>Male  </span></td><td>1968</td></tr>\n",
       "\t<tr><td>21742472</td><td>2019-01-01 0:38:47</td><td>2019-01-01 0:50:38</td><td>1704</td><td><span style=white-space:pre-wrap>711     </span></td><td>256</td><td><span style=white-space:pre-wrap>Broadway &amp; Sheridan Rd             </span></td><td>297</td><td><span style=white-space:pre-wrap>Paulina St &amp; Montrose Ave     </span></td><td>Subscriber</td><td><span style=white-space:pre-wrap>Male  </span></td><td>1964</td></tr>\n",
       "\t<tr><td>21742473</td><td>2019-01-01 0:40:16</td><td>2019-01-01 0:49:29</td><td>1476</td><td><span style=white-space:pre-wrap>553     </span></td><td>254</td><td><span style=white-space:pre-wrap>Pine Grove Ave &amp; Irving Park Rd    </span></td><td>465</td><td><span style=white-space:pre-wrap>Marine Dr &amp; Ainslie St        </span></td><td>Subscriber</td><td><span style=white-space:pre-wrap>Male  </span></td><td>1990</td></tr>\n",
       "\t<tr><td>21742474</td><td>2019-01-01 0:41:46</td><td>2019-01-01 0:50:27</td><td>4614</td><td><span style=white-space:pre-wrap>521     </span></td><td> 66</td><td><span style=white-space:pre-wrap>Clinton St &amp; Lake St               </span></td><td> 52</td><td><span style=white-space:pre-wrap>Michigan Ave &amp; Lake St        </span></td><td>Subscriber</td><td><span style=white-space:pre-wrap>Male  </span></td><td>1994</td></tr>\n",
       "\t<tr><td>⋮</td><td>⋮</td><td>⋮</td><td>⋮</td><td>⋮</td><td>⋮</td><td>⋮</td><td>⋮</td><td>⋮</td><td>⋮</td><td>⋮</td><td>⋮</td></tr>\n",
       "\t<tr><td>22178488</td><td>2019-03-31 22:51:02</td><td>2019-03-31 22:54:00</td><td>4602</td><td>178</td><td>460</td><td><span style=white-space:pre-wrap>Clark St &amp; Bryn Mawr Ave           </span></td><td>461</td><td><span style=white-space:pre-wrap>Broadway &amp; Ridge Ave                </span></td><td>Subscriber</td><td><span style=white-space:pre-wrap>Male  </span></td><td>1986</td></tr>\n",
       "\t<tr><td>22178489</td><td>2019-03-31 22:54:00</td><td>2019-03-31 23:02:49</td><td>4151</td><td>529</td><td> 47</td><td><span style=white-space:pre-wrap>State St &amp; Kinzie St               </span></td><td> 26</td><td><span style=white-space:pre-wrap>McClurg Ct &amp; Illinois St            </span></td><td>Subscriber</td><td><span style=white-space:pre-wrap>Male  </span></td><td>1990</td></tr>\n",
       "\t<tr><td>22178490</td><td>2019-03-31 22:55:28</td><td>2019-03-31 23:02:10</td><td>3833</td><td>402</td><td>108</td><td><span style=white-space:pre-wrap>Halsted St &amp; Polk St               </span></td><td> 19</td><td><span style=white-space:pre-wrap>Loomis St &amp; Taylor St (*)           </span></td><td>Subscriber</td><td><span style=white-space:pre-wrap>Male  </span></td><td>1992</td></tr>\n",
       "\t<tr><td>22178491</td><td>2019-03-31 22:58:00</td><td>2019-03-31 23:06:12</td><td>1374</td><td>492</td><td>108</td><td><span style=white-space:pre-wrap>Halsted St &amp; Polk St               </span></td><td> 41</td><td><span style=white-space:pre-wrap>Federal St &amp; Polk St                </span></td><td>Subscriber</td><td><span style=white-space:pre-wrap>Male  </span></td><td>1992</td></tr>\n",
       "\t<tr><td>22178492</td><td>2019-03-31 22:59:35</td><td>2019-03-31 23:01:38</td><td>3723</td><td>123</td><td> 66</td><td><span style=white-space:pre-wrap>Clinton St &amp; Lake St               </span></td><td> 77</td><td><span style=white-space:pre-wrap>Clinton St &amp; Madison St             </span></td><td>Subscriber</td><td>Female</td><td>1985</td></tr>\n",
       "\t<tr><td>22178493</td><td>2019-03-31 23:00:17</td><td>2019-03-31 23:10:52</td><td>2331</td><td>635</td><td> 51</td><td><span style=white-space:pre-wrap>Clark St &amp; Randolph St             </span></td><td>364</td><td><span style=white-space:pre-wrap>Larrabee St &amp; Oak St                </span></td><td>Subscriber</td><td><span style=white-space:pre-wrap>Male  </span></td><td>1972</td></tr>\n",
       "\t<tr><td>22178494</td><td>2019-03-31 23:00:28</td><td>2019-03-31 23:09:20</td><td>1312</td><td>532</td><td> 98</td><td><span style=white-space:pre-wrap>LaSalle St &amp; Washington St         </span></td><td> 22</td><td><span style=white-space:pre-wrap>May St &amp; Taylor St                  </span></td><td><span style=white-space:pre-wrap>Customer  </span></td><td><span style=white-space:pre-wrap>Male  </span></td><td>1993</td></tr>\n",
       "\t<tr><td>22178495</td><td>2019-03-31 23:00:43</td><td>2019-03-31 23:13:04</td><td>6205</td><td>741</td><td>301</td><td><span style=white-space:pre-wrap>Clark St &amp; Schiller St             </span></td><td>115</td><td><span style=white-space:pre-wrap>Sheffield Ave &amp; Wellington Ave      </span></td><td>Subscriber</td><td><span style=white-space:pre-wrap>Male  </span></td><td>1988</td></tr>\n",
       "\t<tr><td>22178502</td><td>2019-03-31 23:03:01</td><td>2019-03-31 23:15:20</td><td>3360</td><td>739</td><td>295</td><td><span style=white-space:pre-wrap>Broadway &amp; Argyle St               </span></td><td>451</td><td><span style=white-space:pre-wrap>Sheridan Rd &amp; Loyola Ave            </span></td><td>Subscriber</td><td><span style=white-space:pre-wrap>Male  </span></td><td>1992</td></tr>\n",
       "\t<tr><td>22178503</td><td>2019-03-31 23:09:40</td><td>2019-03-31 23:19:30</td><td>6416</td><td>590</td><td>114</td><td><span style=white-space:pre-wrap>Sheffield Ave &amp; Waveland Ave       </span></td><td>330</td><td><span style=white-space:pre-wrap>Lincoln Ave &amp; Addison St            </span></td><td>Subscriber</td><td>Female</td><td>1985</td></tr>\n",
       "\t<tr><td>22178504</td><td>2019-03-31 23:10:19</td><td>2019-03-31 23:21:33</td><td>3767</td><td>674</td><td> 50</td><td><span style=white-space:pre-wrap>Clark St &amp; Ida B Wells Dr          </span></td><td> 50</td><td><span style=white-space:pre-wrap>Clark St &amp; Ida B Wells Dr           </span></td><td>Subscriber</td><td><span style=white-space:pre-wrap>Male  </span></td><td>1957</td></tr>\n",
       "\t<tr><td>22178505</td><td>2019-03-31 23:11:15</td><td>2019-03-31 23:20:27</td><td>1646</td><td>552</td><td>111</td><td><span style=white-space:pre-wrap>Sedgwick St &amp; Huron St             </span></td><td>301</td><td><span style=white-space:pre-wrap>Clark St &amp; Schiller St              </span></td><td>Subscriber</td><td><span style=white-space:pre-wrap>Male  </span></td><td>1994</td></tr>\n",
       "\t<tr><td>22178506</td><td>2019-03-31 23:15:53</td><td>2019-03-31 23:20:27</td><td> 632</td><td>274</td><td> 16</td><td><span style=white-space:pre-wrap>Paulina Ave &amp; North Ave            </span></td><td>158</td><td><span style=white-space:pre-wrap>Milwaukee Ave &amp; Wabansia Ave        </span></td><td>Subscriber</td><td><span style=white-space:pre-wrap>Male  </span></td><td>1991</td></tr>\n",
       "\t<tr><td>22178507</td><td>2019-03-31 23:16:57</td><td>2019-03-31 23:22:42</td><td>1537</td><td>345</td><td>173</td><td>Mies van der Rohe Way &amp; Chicago Ave</td><td>172</td><td><span style=white-space:pre-wrap>Rush St &amp; Cedar St                  </span></td><td>Subscriber</td><td><span style=white-space:pre-wrap>Male  </span></td><td>1980</td></tr>\n",
       "\t<tr><td>22178508</td><td>2019-03-31 23:18:42</td><td>2019-03-31 23:30:40</td><td>1952</td><td>718</td><td>301</td><td><span style=white-space:pre-wrap>Clark St &amp; Schiller St             </span></td><td>210</td><td><span style=white-space:pre-wrap>Ashland Ave &amp; Division St           </span></td><td>Subscriber</td><td><span style=white-space:pre-wrap>Male  </span></td><td>1988</td></tr>\n",
       "\t<tr><td>22178509</td><td>2019-03-31 23:20:36</td><td>2019-03-31 23:28:12</td><td>5331</td><td>456</td><td>115</td><td><span style=white-space:pre-wrap>Sheffield Ave &amp; Wellington Ave     </span></td><td>313</td><td><span style=white-space:pre-wrap>Lakeview Ave &amp; Fullerton Pkwy       </span></td><td>Subscriber</td><td><span style=white-space:pre-wrap>Male  </span></td><td>1987</td></tr>\n",
       "\t<tr><td>22178510</td><td>2019-03-31 23:21:07</td><td>2019-03-31 23:25:12</td><td><span style=white-space:pre-wrap>  67</span></td><td>245</td><td>325</td><td><span style=white-space:pre-wrap>Clark St &amp; Winnemac Ave            </span></td><td>464</td><td><span style=white-space:pre-wrap>Damen Ave &amp; Foster Ave              </span></td><td>Subscriber</td><td><span style=white-space:pre-wrap>Male  </span></td><td>1983</td></tr>\n",
       "\t<tr><td>22178515</td><td>2019-03-31 23:26:00</td><td>2019-03-31 23:37:24</td><td>2965</td><td>684</td><td>403</td><td><span style=white-space:pre-wrap>Wentworth Ave &amp; 33rd St            </span></td><td>263</td><td><span style=white-space:pre-wrap>Rhodes Ave &amp; 32nd St                </span></td><td>Subscriber</td><td><span style=white-space:pre-wrap>Male  </span></td><td>1984</td></tr>\n",
       "\t<tr><td>22178516</td><td>2019-03-31 23:31:30</td><td>2019-03-31 23:35:29</td><td>5747</td><td>239</td><td>309</td><td><span style=white-space:pre-wrap>Leavitt St &amp; Armitage Ave          </span></td><td>219</td><td><span style=white-space:pre-wrap>Damen Ave &amp; Cortland St             </span></td><td>Subscriber</td><td><span style=white-space:pre-wrap>Male  </span></td><td>1970</td></tr>\n",
       "\t<tr><td>22178517</td><td>2019-03-31 23:32:54</td><td>2019-03-31 23:37:50</td><td>2846</td><td>296</td><td>181</td><td><span style=white-space:pre-wrap>LaSalle St &amp; Illinois St           </span></td><td> 24</td><td><span style=white-space:pre-wrap>Fairbanks Ct &amp; Grand Ave            </span></td><td><span style=white-space:pre-wrap>Customer  </span></td><td><span style=white-space:pre-wrap>      </span></td><td><span style=white-space:pre-wrap>  NA</span></td></tr>\n",
       "\t<tr><td>22178518</td><td>2019-03-31 23:33:02</td><td>2019-03-31 23:43:15</td><td>2772</td><td>613</td><td>210</td><td><span style=white-space:pre-wrap>Ashland Ave &amp; Division St          </span></td><td>210</td><td><span style=white-space:pre-wrap>Ashland Ave &amp; Division St           </span></td><td>Subscriber</td><td><span style=white-space:pre-wrap>Male  </span></td><td>1972</td></tr>\n",
       "\t<tr><td>22178519</td><td>2019-03-31 23:33:14</td><td>2019-03-31 23:37:40</td><td>4304</td><td>266</td><td>181</td><td><span style=white-space:pre-wrap>LaSalle St &amp; Illinois St           </span></td><td> 24</td><td><span style=white-space:pre-wrap>Fairbanks Ct &amp; Grand Ave            </span></td><td><span style=white-space:pre-wrap>Customer  </span></td><td><span style=white-space:pre-wrap>      </span></td><td><span style=white-space:pre-wrap>  NA</span></td></tr>\n",
       "\t<tr><td>22178520</td><td>2019-03-31 23:34:08</td><td>2019-03-31 23:38:07</td><td> 667</td><td>239</td><td>199</td><td><span style=white-space:pre-wrap>Wabash Ave &amp; Grand Ave             </span></td><td> 26</td><td><span style=white-space:pre-wrap>McClurg Ct &amp; Illinois St            </span></td><td>Subscriber</td><td>Female</td><td>1984</td></tr>\n",
       "\t<tr><td>22178521</td><td>2019-03-31 23:39:48</td><td>2019-03-31 23:41:41</td><td>4814</td><td>113</td><td>198</td><td><span style=white-space:pre-wrap>Green St &amp; Madison St              </span></td><td>233</td><td><span style=white-space:pre-wrap>Sangamon St &amp; Washington Blvd (*)   </span></td><td>Subscriber</td><td><span style=white-space:pre-wrap>Male  </span></td><td>1971</td></tr>\n",
       "\t<tr><td>22178522</td><td>2019-03-31 23:47:05</td><td>2019-03-31 23:51:35</td><td>3873</td><td>270</td><td> 69</td><td><span style=white-space:pre-wrap>Damen Ave &amp; Pierce Ave             </span></td><td>183</td><td>Damen Ave &amp; Thomas St (Augusta Blvd)</td><td>Subscriber</td><td><span style=white-space:pre-wrap>Male  </span></td><td>1985</td></tr>\n",
       "\t<tr><td>22178524</td><td>2019-03-31 23:51:32</td><td>2019-04-01 0:04:09 </td><td>1501</td><td>757</td><td> 38</td><td><span style=white-space:pre-wrap>Clark St &amp; Lake St                 </span></td><td> 29</td><td><span style=white-space:pre-wrap>Noble St &amp; Milwaukee Ave            </span></td><td>Subscriber</td><td><span style=white-space:pre-wrap>Male  </span></td><td>1993</td></tr>\n",
       "\t<tr><td>22178525</td><td>2019-03-31 23:52:37</td><td>2019-03-31 23:58:09</td><td>3270</td><td>332</td><td>129</td><td><span style=white-space:pre-wrap>Blue Island Ave &amp; 18th St          </span></td><td>202</td><td><span style=white-space:pre-wrap>Halsted St &amp; 18th St                </span></td><td>Subscriber</td><td><span style=white-space:pre-wrap>Male  </span></td><td>1992</td></tr>\n",
       "\t<tr><td>22178526</td><td>2019-03-31 23:52:38</td><td>2019-04-01 0:06:44 </td><td>3584</td><td>846</td><td>283</td><td><span style=white-space:pre-wrap>LaSalle St &amp; Jackson Blvd          </span></td><td>273</td><td><span style=white-space:pre-wrap>Michigan Ave &amp; 18th St              </span></td><td>Subscriber</td><td><span style=white-space:pre-wrap>Male  </span></td><td>1984</td></tr>\n",
       "\t<tr><td>22178527</td><td>2019-03-31 23:53:08</td><td>2019-03-31 23:56:06</td><td>4384</td><td>178</td><td>321</td><td><span style=white-space:pre-wrap>Wabash Ave &amp; 9th St                </span></td><td> 39</td><td><span style=white-space:pre-wrap>Wabash Ave &amp; Adams St               </span></td><td>Subscriber</td><td><span style=white-space:pre-wrap>Male  </span></td><td>1969</td></tr>\n",
       "\t<tr><td>22178528</td><td>2019-03-31 23:53:48</td><td>2019-04-01 0:01:16 </td><td>5589</td><td>448</td><td>248</td><td><span style=white-space:pre-wrap>Woodlawn Ave &amp; 55th St             </span></td><td>247</td><td><span style=white-space:pre-wrap>Shore Dr &amp; 55th St                  </span></td><td>Subscriber</td><td><span style=white-space:pre-wrap>Male  </span></td><td>1998</td></tr>\n",
       "</tbody>\n",
       "</table>\n"
      ],
      "text/latex": [
       "A data.frame: 365069 × 12\n",
       "\\begin{tabular}{llllllllllll}\n",
       " ride\\_id & started\\_at & ended\\_at & rideable\\_type & tripduration & start\\_station\\_id & start\\_station\\_name & end\\_station\\_id & end\\_station\\_name & member\\_casual & gender & birthyear\\\\\n",
       " <int> & <chr> & <chr> & <int> & <chr> & <int> & <chr> & <int> & <chr> & <chr> & <chr> & <int>\\\\\n",
       "\\hline\n",
       "\t 21742443 & 2019-01-01 0:04:37 & 2019-01-01 0:11:07 & 2167 & 390      & 199 & Wabash Ave \\& Grand Ave              &  84 & Milwaukee Ave \\& Grand Ave      & Subscriber & Male   & 1989\\\\\n",
       "\t 21742444 & 2019-01-01 0:08:13 & 2019-01-01 0:15:34 & 4386 & 441      &  44 & State St \\& Randolph St              & 624 & Dearborn St \\& Van Buren St (*) & Subscriber & Female & 1990\\\\\n",
       "\t 21742445 & 2019-01-01 0:13:23 & 2019-01-01 0:27:12 & 1524 & 829      &  15 & Racine Ave \\& 18th St                & 644 & Western Ave \\& Fillmore St (*)  & Subscriber & Female & 1994\\\\\n",
       "\t 21742446 & 2019-01-01 0:13:45 & 2019-01-01 0:43:28 &  252 & 1,783.00 & 123 & California Ave \\& Milwaukee Ave      & 176 & Clark St \\& Elm St              & Subscriber & Male   & 1993\\\\\n",
       "\t 21742447 & 2019-01-01 0:14:52 & 2019-01-01 0:20:56 & 1170 & 364      & 173 & Mies van der Rohe Way \\& Chicago Ave &  35 & Streeter Dr \\& Grand Ave        & Subscriber & Male   & 1994\\\\\n",
       "\t 21742448 & 2019-01-01 0:15:33 & 2019-01-01 0:19:09 & 2437 & 216      &  98 & LaSalle St \\& Washington St          &  49 & Dearborn St \\& Monroe St        & Subscriber & Female & 1983\\\\\n",
       "\t 21742449 & 2019-01-01 0:16:06 & 2019-01-01 0:19:03 & 2708 & 177      &  98 & LaSalle St \\& Washington St          &  49 & Dearborn St \\& Monroe St        & Subscriber & Male   & 1984\\\\\n",
       "\t 21742450 & 2019-01-01 0:18:41 & 2019-01-01 0:20:21 & 2796 & 100      & 211 & St. Clair St \\& Erie St              & 142 & McClurg Ct \\& Erie St           & Subscriber & Male   & 1990\\\\\n",
       "\t 21742451 & 2019-01-01 0:18:43 & 2019-01-01 0:47:30 & 6205 & 1,727.00 & 150 & Fort Dearborn Dr \\& 31st St          & 148 & State St \\& 33rd St             & Subscriber & Male   & 1995\\\\\n",
       "\t 21742452 & 2019-01-01 0:19:18 & 2019-01-01 0:24:54 & 3939 & 336      & 268 & Lake Shore Dr \\& North Blvd          & 141 & Clark St \\& Lincoln Ave         & Subscriber & Male   & 1996\\\\\n",
       "\t 21742453 & 2019-01-01 0:20:34 & 2019-01-01 0:35:20 & 6243 & 886      & 299 & Halsted St \\& Roscoe St              & 295 & Broadway \\& Argyle St           & Subscriber & Male   & 1994\\\\\n",
       "\t 21742454 & 2019-01-01 0:21:52 & 2019-01-01 0:32:45 & 6300 & 653      & 204 & Prairie Ave \\& Garfield Blvd         & 420 & Ellis Ave \\& 55th St            & Subscriber & Female & 1994\\\\\n",
       "\t 21742455 & 2019-01-01 0:23:04 & 2019-01-01 0:33:05 & 3029 & 601      &  90 & Millennium Park                     & 255 & Indiana Ave \\& Roosevelt Rd     & Subscriber & Male   & 1986\\\\\n",
       "\t 21742456 & 2019-01-01 0:23:43 & 2019-01-01 0:33:05 &   84 & 562      &  90 & Millennium Park                     & 255 & Indiana Ave \\& Roosevelt Rd     & Customer   & Female & 1990\\\\\n",
       "\t 21742457 & 2019-01-01 0:23:54 & 2019-01-01 0:39:00 & 5019 & 906      & 289 & Wells St \\& Concord Ln               & 324 & Stockton Dr \\& Wrightwood Ave   & Subscriber & Female & 1989\\\\\n",
       "\t 21742458 & 2019-01-01 0:24:08 & 2019-01-01 0:39:00 & 5526 & 892      & 289 & Wells St \\& Concord Ln               & 324 & Stockton Dr \\& Wrightwood Ave   & Subscriber & Female & 1989\\\\\n",
       "\t 21742459 & 2019-01-01 0:24:13 & 2019-01-01 0:31:00 & 3373 & 407      & 152 & Lincoln Ave \\& Diversey Pkwy         & 166 & Ashland Ave \\& Wrightwood Ave   & Subscriber & Male   & 1967\\\\\n",
       "\t 21742460 & 2019-01-01 0:24:27 & 2019-01-01 0:47:03 & 5777 & 1,356.00 & 268 & Lake Shore Dr \\& North Blvd          & 319 & Greenview Ave \\& Diversey Pkwy  & Customer   & Female & 1990\\\\\n",
       "\t 21742461 & 2019-01-01 0:25:28 & 2019-01-01 0:27:10 & 3940 & 102      &  35 & Streeter Dr \\& Grand Ave             &  35 & Streeter Dr \\& Grand Ave        & Subscriber & Male   & 1985\\\\\n",
       "\t 21742463 & 2019-01-01 0:29:19 & 2019-01-01 1:08:12 & 3914 & 2,333.00 &  35 & Streeter Dr \\& Grand Ave             &  39 & Wabash Ave \\& Adams St          & Customer   &        &   NA\\\\\n",
       "\t 21742464 & 2019-01-01 0:29:21 & 2019-01-01 0:45:21 &  140 & 960      &  47 & State St \\& Kinzie St                & 111 & Sedgwick St \\& Huron St         & Subscriber & Male   & 1957\\\\\n",
       "\t 21742465 & 2019-01-01 0:29:28 & 2019-01-01 1:07:49 & 3355 & 2,301.00 &  35 & Streeter Dr \\& Grand Ave             &  39 & Wabash Ave \\& Adams St          & Customer   &        &   NA\\\\\n",
       "\t 21742466 & 2019-01-01 0:29:47 & 2019-01-01 0:49:15 & 5026 & 1,168.00 &  85 & Michigan Ave \\& Oak St               & 329 & Lake Shore Dr \\& Diversey Pkwy  & Subscriber & Male   & 1959\\\\\n",
       "\t 21742467 & 2019-01-01 0:30:48 & 2019-01-01 0:38:42 & 1998 & 474      & 289 & Wells St \\& Concord Ln               & 313 & Lakeview Ave \\& Fullerton Pkwy  & Subscriber & Male   & 1994\\\\\n",
       "\t 21742468 & 2019-01-01 0:33:09 & 2019-01-01 0:50:25 & 2630 & 1,036.00 &  13 & Wilton Ave \\& Diversey Pkwy          &  61 & Wood St \\& Milwaukee Ave        & Subscriber & Male   & 1991\\\\\n",
       "\t 21742469 & 2019-01-01 0:34:35 & 2019-01-01 0:38:25 & 3722 & 230      & 520 & Greenview Ave \\& Jarvis Ave          & 523 & Eastlake Ter \\& Rogers Ave      & Subscriber & Male   & 1961\\\\\n",
       "\t 21742471 & 2019-01-01 0:38:11 & 2019-01-01 0:50:38 & 1166 & 747      & 256 & Broadway \\& Sheridan Rd              & 297 & Paulina St \\& Montrose Ave      & Subscriber & Male   & 1968\\\\\n",
       "\t 21742472 & 2019-01-01 0:38:47 & 2019-01-01 0:50:38 & 1704 & 711      & 256 & Broadway \\& Sheridan Rd              & 297 & Paulina St \\& Montrose Ave      & Subscriber & Male   & 1964\\\\\n",
       "\t 21742473 & 2019-01-01 0:40:16 & 2019-01-01 0:49:29 & 1476 & 553      & 254 & Pine Grove Ave \\& Irving Park Rd     & 465 & Marine Dr \\& Ainslie St         & Subscriber & Male   & 1990\\\\\n",
       "\t 21742474 & 2019-01-01 0:41:46 & 2019-01-01 0:50:27 & 4614 & 521      &  66 & Clinton St \\& Lake St                &  52 & Michigan Ave \\& Lake St         & Subscriber & Male   & 1994\\\\\n",
       "\t ⋮ & ⋮ & ⋮ & ⋮ & ⋮ & ⋮ & ⋮ & ⋮ & ⋮ & ⋮ & ⋮ & ⋮\\\\\n",
       "\t 22178488 & 2019-03-31 22:51:02 & 2019-03-31 22:54:00 & 4602 & 178 & 460 & Clark St \\& Bryn Mawr Ave            & 461 & Broadway \\& Ridge Ave                 & Subscriber & Male   & 1986\\\\\n",
       "\t 22178489 & 2019-03-31 22:54:00 & 2019-03-31 23:02:49 & 4151 & 529 &  47 & State St \\& Kinzie St                &  26 & McClurg Ct \\& Illinois St             & Subscriber & Male   & 1990\\\\\n",
       "\t 22178490 & 2019-03-31 22:55:28 & 2019-03-31 23:02:10 & 3833 & 402 & 108 & Halsted St \\& Polk St                &  19 & Loomis St \\& Taylor St (*)            & Subscriber & Male   & 1992\\\\\n",
       "\t 22178491 & 2019-03-31 22:58:00 & 2019-03-31 23:06:12 & 1374 & 492 & 108 & Halsted St \\& Polk St                &  41 & Federal St \\& Polk St                 & Subscriber & Male   & 1992\\\\\n",
       "\t 22178492 & 2019-03-31 22:59:35 & 2019-03-31 23:01:38 & 3723 & 123 &  66 & Clinton St \\& Lake St                &  77 & Clinton St \\& Madison St              & Subscriber & Female & 1985\\\\\n",
       "\t 22178493 & 2019-03-31 23:00:17 & 2019-03-31 23:10:52 & 2331 & 635 &  51 & Clark St \\& Randolph St              & 364 & Larrabee St \\& Oak St                 & Subscriber & Male   & 1972\\\\\n",
       "\t 22178494 & 2019-03-31 23:00:28 & 2019-03-31 23:09:20 & 1312 & 532 &  98 & LaSalle St \\& Washington St          &  22 & May St \\& Taylor St                   & Customer   & Male   & 1993\\\\\n",
       "\t 22178495 & 2019-03-31 23:00:43 & 2019-03-31 23:13:04 & 6205 & 741 & 301 & Clark St \\& Schiller St              & 115 & Sheffield Ave \\& Wellington Ave       & Subscriber & Male   & 1988\\\\\n",
       "\t 22178502 & 2019-03-31 23:03:01 & 2019-03-31 23:15:20 & 3360 & 739 & 295 & Broadway \\& Argyle St                & 451 & Sheridan Rd \\& Loyola Ave             & Subscriber & Male   & 1992\\\\\n",
       "\t 22178503 & 2019-03-31 23:09:40 & 2019-03-31 23:19:30 & 6416 & 590 & 114 & Sheffield Ave \\& Waveland Ave        & 330 & Lincoln Ave \\& Addison St             & Subscriber & Female & 1985\\\\\n",
       "\t 22178504 & 2019-03-31 23:10:19 & 2019-03-31 23:21:33 & 3767 & 674 &  50 & Clark St \\& Ida B Wells Dr           &  50 & Clark St \\& Ida B Wells Dr            & Subscriber & Male   & 1957\\\\\n",
       "\t 22178505 & 2019-03-31 23:11:15 & 2019-03-31 23:20:27 & 1646 & 552 & 111 & Sedgwick St \\& Huron St              & 301 & Clark St \\& Schiller St               & Subscriber & Male   & 1994\\\\\n",
       "\t 22178506 & 2019-03-31 23:15:53 & 2019-03-31 23:20:27 &  632 & 274 &  16 & Paulina Ave \\& North Ave             & 158 & Milwaukee Ave \\& Wabansia Ave         & Subscriber & Male   & 1991\\\\\n",
       "\t 22178507 & 2019-03-31 23:16:57 & 2019-03-31 23:22:42 & 1537 & 345 & 173 & Mies van der Rohe Way \\& Chicago Ave & 172 & Rush St \\& Cedar St                   & Subscriber & Male   & 1980\\\\\n",
       "\t 22178508 & 2019-03-31 23:18:42 & 2019-03-31 23:30:40 & 1952 & 718 & 301 & Clark St \\& Schiller St              & 210 & Ashland Ave \\& Division St            & Subscriber & Male   & 1988\\\\\n",
       "\t 22178509 & 2019-03-31 23:20:36 & 2019-03-31 23:28:12 & 5331 & 456 & 115 & Sheffield Ave \\& Wellington Ave      & 313 & Lakeview Ave \\& Fullerton Pkwy        & Subscriber & Male   & 1987\\\\\n",
       "\t 22178510 & 2019-03-31 23:21:07 & 2019-03-31 23:25:12 &   67 & 245 & 325 & Clark St \\& Winnemac Ave             & 464 & Damen Ave \\& Foster Ave               & Subscriber & Male   & 1983\\\\\n",
       "\t 22178515 & 2019-03-31 23:26:00 & 2019-03-31 23:37:24 & 2965 & 684 & 403 & Wentworth Ave \\& 33rd St             & 263 & Rhodes Ave \\& 32nd St                 & Subscriber & Male   & 1984\\\\\n",
       "\t 22178516 & 2019-03-31 23:31:30 & 2019-03-31 23:35:29 & 5747 & 239 & 309 & Leavitt St \\& Armitage Ave           & 219 & Damen Ave \\& Cortland St              & Subscriber & Male   & 1970\\\\\n",
       "\t 22178517 & 2019-03-31 23:32:54 & 2019-03-31 23:37:50 & 2846 & 296 & 181 & LaSalle St \\& Illinois St            &  24 & Fairbanks Ct \\& Grand Ave             & Customer   &        &   NA\\\\\n",
       "\t 22178518 & 2019-03-31 23:33:02 & 2019-03-31 23:43:15 & 2772 & 613 & 210 & Ashland Ave \\& Division St           & 210 & Ashland Ave \\& Division St            & Subscriber & Male   & 1972\\\\\n",
       "\t 22178519 & 2019-03-31 23:33:14 & 2019-03-31 23:37:40 & 4304 & 266 & 181 & LaSalle St \\& Illinois St            &  24 & Fairbanks Ct \\& Grand Ave             & Customer   &        &   NA\\\\\n",
       "\t 22178520 & 2019-03-31 23:34:08 & 2019-03-31 23:38:07 &  667 & 239 & 199 & Wabash Ave \\& Grand Ave              &  26 & McClurg Ct \\& Illinois St             & Subscriber & Female & 1984\\\\\n",
       "\t 22178521 & 2019-03-31 23:39:48 & 2019-03-31 23:41:41 & 4814 & 113 & 198 & Green St \\& Madison St               & 233 & Sangamon St \\& Washington Blvd (*)    & Subscriber & Male   & 1971\\\\\n",
       "\t 22178522 & 2019-03-31 23:47:05 & 2019-03-31 23:51:35 & 3873 & 270 &  69 & Damen Ave \\& Pierce Ave              & 183 & Damen Ave \\& Thomas St (Augusta Blvd) & Subscriber & Male   & 1985\\\\\n",
       "\t 22178524 & 2019-03-31 23:51:32 & 2019-04-01 0:04:09  & 1501 & 757 &  38 & Clark St \\& Lake St                  &  29 & Noble St \\& Milwaukee Ave             & Subscriber & Male   & 1993\\\\\n",
       "\t 22178525 & 2019-03-31 23:52:37 & 2019-03-31 23:58:09 & 3270 & 332 & 129 & Blue Island Ave \\& 18th St           & 202 & Halsted St \\& 18th St                 & Subscriber & Male   & 1992\\\\\n",
       "\t 22178526 & 2019-03-31 23:52:38 & 2019-04-01 0:06:44  & 3584 & 846 & 283 & LaSalle St \\& Jackson Blvd           & 273 & Michigan Ave \\& 18th St               & Subscriber & Male   & 1984\\\\\n",
       "\t 22178527 & 2019-03-31 23:53:08 & 2019-03-31 23:56:06 & 4384 & 178 & 321 & Wabash Ave \\& 9th St                 &  39 & Wabash Ave \\& Adams St                & Subscriber & Male   & 1969\\\\\n",
       "\t 22178528 & 2019-03-31 23:53:48 & 2019-04-01 0:01:16  & 5589 & 448 & 248 & Woodlawn Ave \\& 55th St              & 247 & Shore Dr \\& 55th St                   & Subscriber & Male   & 1998\\\\\n",
       "\\end{tabular}\n"
      ],
      "text/markdown": [
       "\n",
       "A data.frame: 365069 × 12\n",
       "\n",
       "| ride_id &lt;int&gt; | started_at &lt;chr&gt; | ended_at &lt;chr&gt; | rideable_type &lt;int&gt; | tripduration &lt;chr&gt; | start_station_id &lt;int&gt; | start_station_name &lt;chr&gt; | end_station_id &lt;int&gt; | end_station_name &lt;chr&gt; | member_casual &lt;chr&gt; | gender &lt;chr&gt; | birthyear &lt;int&gt; |\n",
       "|---|---|---|---|---|---|---|---|---|---|---|---|\n",
       "| 21742443 | 2019-01-01 0:04:37 | 2019-01-01 0:11:07 | 2167 | 390      | 199 | Wabash Ave &amp; Grand Ave              |  84 | Milwaukee Ave &amp; Grand Ave      | Subscriber | Male   | 1989 |\n",
       "| 21742444 | 2019-01-01 0:08:13 | 2019-01-01 0:15:34 | 4386 | 441      |  44 | State St &amp; Randolph St              | 624 | Dearborn St &amp; Van Buren St (*) | Subscriber | Female | 1990 |\n",
       "| 21742445 | 2019-01-01 0:13:23 | 2019-01-01 0:27:12 | 1524 | 829      |  15 | Racine Ave &amp; 18th St                | 644 | Western Ave &amp; Fillmore St (*)  | Subscriber | Female | 1994 |\n",
       "| 21742446 | 2019-01-01 0:13:45 | 2019-01-01 0:43:28 |  252 | 1,783.00 | 123 | California Ave &amp; Milwaukee Ave      | 176 | Clark St &amp; Elm St              | Subscriber | Male   | 1993 |\n",
       "| 21742447 | 2019-01-01 0:14:52 | 2019-01-01 0:20:56 | 1170 | 364      | 173 | Mies van der Rohe Way &amp; Chicago Ave |  35 | Streeter Dr &amp; Grand Ave        | Subscriber | Male   | 1994 |\n",
       "| 21742448 | 2019-01-01 0:15:33 | 2019-01-01 0:19:09 | 2437 | 216      |  98 | LaSalle St &amp; Washington St          |  49 | Dearborn St &amp; Monroe St        | Subscriber | Female | 1983 |\n",
       "| 21742449 | 2019-01-01 0:16:06 | 2019-01-01 0:19:03 | 2708 | 177      |  98 | LaSalle St &amp; Washington St          |  49 | Dearborn St &amp; Monroe St        | Subscriber | Male   | 1984 |\n",
       "| 21742450 | 2019-01-01 0:18:41 | 2019-01-01 0:20:21 | 2796 | 100      | 211 | St. Clair St &amp; Erie St              | 142 | McClurg Ct &amp; Erie St           | Subscriber | Male   | 1990 |\n",
       "| 21742451 | 2019-01-01 0:18:43 | 2019-01-01 0:47:30 | 6205 | 1,727.00 | 150 | Fort Dearborn Dr &amp; 31st St          | 148 | State St &amp; 33rd St             | Subscriber | Male   | 1995 |\n",
       "| 21742452 | 2019-01-01 0:19:18 | 2019-01-01 0:24:54 | 3939 | 336      | 268 | Lake Shore Dr &amp; North Blvd          | 141 | Clark St &amp; Lincoln Ave         | Subscriber | Male   | 1996 |\n",
       "| 21742453 | 2019-01-01 0:20:34 | 2019-01-01 0:35:20 | 6243 | 886      | 299 | Halsted St &amp; Roscoe St              | 295 | Broadway &amp; Argyle St           | Subscriber | Male   | 1994 |\n",
       "| 21742454 | 2019-01-01 0:21:52 | 2019-01-01 0:32:45 | 6300 | 653      | 204 | Prairie Ave &amp; Garfield Blvd         | 420 | Ellis Ave &amp; 55th St            | Subscriber | Female | 1994 |\n",
       "| 21742455 | 2019-01-01 0:23:04 | 2019-01-01 0:33:05 | 3029 | 601      |  90 | Millennium Park                     | 255 | Indiana Ave &amp; Roosevelt Rd     | Subscriber | Male   | 1986 |\n",
       "| 21742456 | 2019-01-01 0:23:43 | 2019-01-01 0:33:05 |   84 | 562      |  90 | Millennium Park                     | 255 | Indiana Ave &amp; Roosevelt Rd     | Customer   | Female | 1990 |\n",
       "| 21742457 | 2019-01-01 0:23:54 | 2019-01-01 0:39:00 | 5019 | 906      | 289 | Wells St &amp; Concord Ln               | 324 | Stockton Dr &amp; Wrightwood Ave   | Subscriber | Female | 1989 |\n",
       "| 21742458 | 2019-01-01 0:24:08 | 2019-01-01 0:39:00 | 5526 | 892      | 289 | Wells St &amp; Concord Ln               | 324 | Stockton Dr &amp; Wrightwood Ave   | Subscriber | Female | 1989 |\n",
       "| 21742459 | 2019-01-01 0:24:13 | 2019-01-01 0:31:00 | 3373 | 407      | 152 | Lincoln Ave &amp; Diversey Pkwy         | 166 | Ashland Ave &amp; Wrightwood Ave   | Subscriber | Male   | 1967 |\n",
       "| 21742460 | 2019-01-01 0:24:27 | 2019-01-01 0:47:03 | 5777 | 1,356.00 | 268 | Lake Shore Dr &amp; North Blvd          | 319 | Greenview Ave &amp; Diversey Pkwy  | Customer   | Female | 1990 |\n",
       "| 21742461 | 2019-01-01 0:25:28 | 2019-01-01 0:27:10 | 3940 | 102      |  35 | Streeter Dr &amp; Grand Ave             |  35 | Streeter Dr &amp; Grand Ave        | Subscriber | Male   | 1985 |\n",
       "| 21742463 | 2019-01-01 0:29:19 | 2019-01-01 1:08:12 | 3914 | 2,333.00 |  35 | Streeter Dr &amp; Grand Ave             |  39 | Wabash Ave &amp; Adams St          | Customer   | <!----> |   NA |\n",
       "| 21742464 | 2019-01-01 0:29:21 | 2019-01-01 0:45:21 |  140 | 960      |  47 | State St &amp; Kinzie St                | 111 | Sedgwick St &amp; Huron St         | Subscriber | Male   | 1957 |\n",
       "| 21742465 | 2019-01-01 0:29:28 | 2019-01-01 1:07:49 | 3355 | 2,301.00 |  35 | Streeter Dr &amp; Grand Ave             |  39 | Wabash Ave &amp; Adams St          | Customer   | <!----> |   NA |\n",
       "| 21742466 | 2019-01-01 0:29:47 | 2019-01-01 0:49:15 | 5026 | 1,168.00 |  85 | Michigan Ave &amp; Oak St               | 329 | Lake Shore Dr &amp; Diversey Pkwy  | Subscriber | Male   | 1959 |\n",
       "| 21742467 | 2019-01-01 0:30:48 | 2019-01-01 0:38:42 | 1998 | 474      | 289 | Wells St &amp; Concord Ln               | 313 | Lakeview Ave &amp; Fullerton Pkwy  | Subscriber | Male   | 1994 |\n",
       "| 21742468 | 2019-01-01 0:33:09 | 2019-01-01 0:50:25 | 2630 | 1,036.00 |  13 | Wilton Ave &amp; Diversey Pkwy          |  61 | Wood St &amp; Milwaukee Ave        | Subscriber | Male   | 1991 |\n",
       "| 21742469 | 2019-01-01 0:34:35 | 2019-01-01 0:38:25 | 3722 | 230      | 520 | Greenview Ave &amp; Jarvis Ave          | 523 | Eastlake Ter &amp; Rogers Ave      | Subscriber | Male   | 1961 |\n",
       "| 21742471 | 2019-01-01 0:38:11 | 2019-01-01 0:50:38 | 1166 | 747      | 256 | Broadway &amp; Sheridan Rd              | 297 | Paulina St &amp; Montrose Ave      | Subscriber | Male   | 1968 |\n",
       "| 21742472 | 2019-01-01 0:38:47 | 2019-01-01 0:50:38 | 1704 | 711      | 256 | Broadway &amp; Sheridan Rd              | 297 | Paulina St &amp; Montrose Ave      | Subscriber | Male   | 1964 |\n",
       "| 21742473 | 2019-01-01 0:40:16 | 2019-01-01 0:49:29 | 1476 | 553      | 254 | Pine Grove Ave &amp; Irving Park Rd     | 465 | Marine Dr &amp; Ainslie St         | Subscriber | Male   | 1990 |\n",
       "| 21742474 | 2019-01-01 0:41:46 | 2019-01-01 0:50:27 | 4614 | 521      |  66 | Clinton St &amp; Lake St                |  52 | Michigan Ave &amp; Lake St         | Subscriber | Male   | 1994 |\n",
       "| ⋮ | ⋮ | ⋮ | ⋮ | ⋮ | ⋮ | ⋮ | ⋮ | ⋮ | ⋮ | ⋮ | ⋮ |\n",
       "| 22178488 | 2019-03-31 22:51:02 | 2019-03-31 22:54:00 | 4602 | 178 | 460 | Clark St &amp; Bryn Mawr Ave            | 461 | Broadway &amp; Ridge Ave                 | Subscriber | Male   | 1986 |\n",
       "| 22178489 | 2019-03-31 22:54:00 | 2019-03-31 23:02:49 | 4151 | 529 |  47 | State St &amp; Kinzie St                |  26 | McClurg Ct &amp; Illinois St             | Subscriber | Male   | 1990 |\n",
       "| 22178490 | 2019-03-31 22:55:28 | 2019-03-31 23:02:10 | 3833 | 402 | 108 | Halsted St &amp; Polk St                |  19 | Loomis St &amp; Taylor St (*)            | Subscriber | Male   | 1992 |\n",
       "| 22178491 | 2019-03-31 22:58:00 | 2019-03-31 23:06:12 | 1374 | 492 | 108 | Halsted St &amp; Polk St                |  41 | Federal St &amp; Polk St                 | Subscriber | Male   | 1992 |\n",
       "| 22178492 | 2019-03-31 22:59:35 | 2019-03-31 23:01:38 | 3723 | 123 |  66 | Clinton St &amp; Lake St                |  77 | Clinton St &amp; Madison St              | Subscriber | Female | 1985 |\n",
       "| 22178493 | 2019-03-31 23:00:17 | 2019-03-31 23:10:52 | 2331 | 635 |  51 | Clark St &amp; Randolph St              | 364 | Larrabee St &amp; Oak St                 | Subscriber | Male   | 1972 |\n",
       "| 22178494 | 2019-03-31 23:00:28 | 2019-03-31 23:09:20 | 1312 | 532 |  98 | LaSalle St &amp; Washington St          |  22 | May St &amp; Taylor St                   | Customer   | Male   | 1993 |\n",
       "| 22178495 | 2019-03-31 23:00:43 | 2019-03-31 23:13:04 | 6205 | 741 | 301 | Clark St &amp; Schiller St              | 115 | Sheffield Ave &amp; Wellington Ave       | Subscriber | Male   | 1988 |\n",
       "| 22178502 | 2019-03-31 23:03:01 | 2019-03-31 23:15:20 | 3360 | 739 | 295 | Broadway &amp; Argyle St                | 451 | Sheridan Rd &amp; Loyola Ave             | Subscriber | Male   | 1992 |\n",
       "| 22178503 | 2019-03-31 23:09:40 | 2019-03-31 23:19:30 | 6416 | 590 | 114 | Sheffield Ave &amp; Waveland Ave        | 330 | Lincoln Ave &amp; Addison St             | Subscriber | Female | 1985 |\n",
       "| 22178504 | 2019-03-31 23:10:19 | 2019-03-31 23:21:33 | 3767 | 674 |  50 | Clark St &amp; Ida B Wells Dr           |  50 | Clark St &amp; Ida B Wells Dr            | Subscriber | Male   | 1957 |\n",
       "| 22178505 | 2019-03-31 23:11:15 | 2019-03-31 23:20:27 | 1646 | 552 | 111 | Sedgwick St &amp; Huron St              | 301 | Clark St &amp; Schiller St               | Subscriber | Male   | 1994 |\n",
       "| 22178506 | 2019-03-31 23:15:53 | 2019-03-31 23:20:27 |  632 | 274 |  16 | Paulina Ave &amp; North Ave             | 158 | Milwaukee Ave &amp; Wabansia Ave         | Subscriber | Male   | 1991 |\n",
       "| 22178507 | 2019-03-31 23:16:57 | 2019-03-31 23:22:42 | 1537 | 345 | 173 | Mies van der Rohe Way &amp; Chicago Ave | 172 | Rush St &amp; Cedar St                   | Subscriber | Male   | 1980 |\n",
       "| 22178508 | 2019-03-31 23:18:42 | 2019-03-31 23:30:40 | 1952 | 718 | 301 | Clark St &amp; Schiller St              | 210 | Ashland Ave &amp; Division St            | Subscriber | Male   | 1988 |\n",
       "| 22178509 | 2019-03-31 23:20:36 | 2019-03-31 23:28:12 | 5331 | 456 | 115 | Sheffield Ave &amp; Wellington Ave      | 313 | Lakeview Ave &amp; Fullerton Pkwy        | Subscriber | Male   | 1987 |\n",
       "| 22178510 | 2019-03-31 23:21:07 | 2019-03-31 23:25:12 |   67 | 245 | 325 | Clark St &amp; Winnemac Ave             | 464 | Damen Ave &amp; Foster Ave               | Subscriber | Male   | 1983 |\n",
       "| 22178515 | 2019-03-31 23:26:00 | 2019-03-31 23:37:24 | 2965 | 684 | 403 | Wentworth Ave &amp; 33rd St             | 263 | Rhodes Ave &amp; 32nd St                 | Subscriber | Male   | 1984 |\n",
       "| 22178516 | 2019-03-31 23:31:30 | 2019-03-31 23:35:29 | 5747 | 239 | 309 | Leavitt St &amp; Armitage Ave           | 219 | Damen Ave &amp; Cortland St              | Subscriber | Male   | 1970 |\n",
       "| 22178517 | 2019-03-31 23:32:54 | 2019-03-31 23:37:50 | 2846 | 296 | 181 | LaSalle St &amp; Illinois St            |  24 | Fairbanks Ct &amp; Grand Ave             | Customer   | <!----> |   NA |\n",
       "| 22178518 | 2019-03-31 23:33:02 | 2019-03-31 23:43:15 | 2772 | 613 | 210 | Ashland Ave &amp; Division St           | 210 | Ashland Ave &amp; Division St            | Subscriber | Male   | 1972 |\n",
       "| 22178519 | 2019-03-31 23:33:14 | 2019-03-31 23:37:40 | 4304 | 266 | 181 | LaSalle St &amp; Illinois St            |  24 | Fairbanks Ct &amp; Grand Ave             | Customer   | <!----> |   NA |\n",
       "| 22178520 | 2019-03-31 23:34:08 | 2019-03-31 23:38:07 |  667 | 239 | 199 | Wabash Ave &amp; Grand Ave              |  26 | McClurg Ct &amp; Illinois St             | Subscriber | Female | 1984 |\n",
       "| 22178521 | 2019-03-31 23:39:48 | 2019-03-31 23:41:41 | 4814 | 113 | 198 | Green St &amp; Madison St               | 233 | Sangamon St &amp; Washington Blvd (*)    | Subscriber | Male   | 1971 |\n",
       "| 22178522 | 2019-03-31 23:47:05 | 2019-03-31 23:51:35 | 3873 | 270 |  69 | Damen Ave &amp; Pierce Ave              | 183 | Damen Ave &amp; Thomas St (Augusta Blvd) | Subscriber | Male   | 1985 |\n",
       "| 22178524 | 2019-03-31 23:51:32 | 2019-04-01 0:04:09  | 1501 | 757 |  38 | Clark St &amp; Lake St                  |  29 | Noble St &amp; Milwaukee Ave             | Subscriber | Male   | 1993 |\n",
       "| 22178525 | 2019-03-31 23:52:37 | 2019-03-31 23:58:09 | 3270 | 332 | 129 | Blue Island Ave &amp; 18th St           | 202 | Halsted St &amp; 18th St                 | Subscriber | Male   | 1992 |\n",
       "| 22178526 | 2019-03-31 23:52:38 | 2019-04-01 0:06:44  | 3584 | 846 | 283 | LaSalle St &amp; Jackson Blvd           | 273 | Michigan Ave &amp; 18th St               | Subscriber | Male   | 1984 |\n",
       "| 22178527 | 2019-03-31 23:53:08 | 2019-03-31 23:56:06 | 4384 | 178 | 321 | Wabash Ave &amp; 9th St                 |  39 | Wabash Ave &amp; Adams St                | Subscriber | Male   | 1969 |\n",
       "| 22178528 | 2019-03-31 23:53:48 | 2019-04-01 0:01:16  | 5589 | 448 | 248 | Woodlawn Ave &amp; 55th St              | 247 | Shore Dr &amp; 55th St                   | Subscriber | Male   | 1998 |\n",
       "\n"
      ],
      "text/plain": [
       "       ride_id  started_at          ended_at            rideable_type\n",
       "1      21742443 2019-01-01 0:04:37  2019-01-01 0:11:07  2167         \n",
       "2      21742444 2019-01-01 0:08:13  2019-01-01 0:15:34  4386         \n",
       "3      21742445 2019-01-01 0:13:23  2019-01-01 0:27:12  1524         \n",
       "4      21742446 2019-01-01 0:13:45  2019-01-01 0:43:28   252         \n",
       "5      21742447 2019-01-01 0:14:52  2019-01-01 0:20:56  1170         \n",
       "6      21742448 2019-01-01 0:15:33  2019-01-01 0:19:09  2437         \n",
       "7      21742449 2019-01-01 0:16:06  2019-01-01 0:19:03  2708         \n",
       "8      21742450 2019-01-01 0:18:41  2019-01-01 0:20:21  2796         \n",
       "9      21742451 2019-01-01 0:18:43  2019-01-01 0:47:30  6205         \n",
       "10     21742452 2019-01-01 0:19:18  2019-01-01 0:24:54  3939         \n",
       "11     21742453 2019-01-01 0:20:34  2019-01-01 0:35:20  6243         \n",
       "12     21742454 2019-01-01 0:21:52  2019-01-01 0:32:45  6300         \n",
       "13     21742455 2019-01-01 0:23:04  2019-01-01 0:33:05  3029         \n",
       "14     21742456 2019-01-01 0:23:43  2019-01-01 0:33:05    84         \n",
       "15     21742457 2019-01-01 0:23:54  2019-01-01 0:39:00  5019         \n",
       "16     21742458 2019-01-01 0:24:08  2019-01-01 0:39:00  5526         \n",
       "17     21742459 2019-01-01 0:24:13  2019-01-01 0:31:00  3373         \n",
       "18     21742460 2019-01-01 0:24:27  2019-01-01 0:47:03  5777         \n",
       "19     21742461 2019-01-01 0:25:28  2019-01-01 0:27:10  3940         \n",
       "20     21742463 2019-01-01 0:29:19  2019-01-01 1:08:12  3914         \n",
       "21     21742464 2019-01-01 0:29:21  2019-01-01 0:45:21   140         \n",
       "22     21742465 2019-01-01 0:29:28  2019-01-01 1:07:49  3355         \n",
       "23     21742466 2019-01-01 0:29:47  2019-01-01 0:49:15  5026         \n",
       "24     21742467 2019-01-01 0:30:48  2019-01-01 0:38:42  1998         \n",
       "25     21742468 2019-01-01 0:33:09  2019-01-01 0:50:25  2630         \n",
       "26     21742469 2019-01-01 0:34:35  2019-01-01 0:38:25  3722         \n",
       "27     21742471 2019-01-01 0:38:11  2019-01-01 0:50:38  1166         \n",
       "28     21742472 2019-01-01 0:38:47  2019-01-01 0:50:38  1704         \n",
       "29     21742473 2019-01-01 0:40:16  2019-01-01 0:49:29  1476         \n",
       "30     21742474 2019-01-01 0:41:46  2019-01-01 0:50:27  4614         \n",
       "⋮      ⋮        ⋮                   ⋮                   ⋮            \n",
       "365040 22178488 2019-03-31 22:51:02 2019-03-31 22:54:00 4602         \n",
       "365041 22178489 2019-03-31 22:54:00 2019-03-31 23:02:49 4151         \n",
       "365042 22178490 2019-03-31 22:55:28 2019-03-31 23:02:10 3833         \n",
       "365043 22178491 2019-03-31 22:58:00 2019-03-31 23:06:12 1374         \n",
       "365044 22178492 2019-03-31 22:59:35 2019-03-31 23:01:38 3723         \n",
       "365045 22178493 2019-03-31 23:00:17 2019-03-31 23:10:52 2331         \n",
       "365046 22178494 2019-03-31 23:00:28 2019-03-31 23:09:20 1312         \n",
       "365047 22178495 2019-03-31 23:00:43 2019-03-31 23:13:04 6205         \n",
       "365048 22178502 2019-03-31 23:03:01 2019-03-31 23:15:20 3360         \n",
       "365049 22178503 2019-03-31 23:09:40 2019-03-31 23:19:30 6416         \n",
       "365050 22178504 2019-03-31 23:10:19 2019-03-31 23:21:33 3767         \n",
       "365051 22178505 2019-03-31 23:11:15 2019-03-31 23:20:27 1646         \n",
       "365052 22178506 2019-03-31 23:15:53 2019-03-31 23:20:27  632         \n",
       "365053 22178507 2019-03-31 23:16:57 2019-03-31 23:22:42 1537         \n",
       "365054 22178508 2019-03-31 23:18:42 2019-03-31 23:30:40 1952         \n",
       "365055 22178509 2019-03-31 23:20:36 2019-03-31 23:28:12 5331         \n",
       "365056 22178510 2019-03-31 23:21:07 2019-03-31 23:25:12   67         \n",
       "365057 22178515 2019-03-31 23:26:00 2019-03-31 23:37:24 2965         \n",
       "365058 22178516 2019-03-31 23:31:30 2019-03-31 23:35:29 5747         \n",
       "365059 22178517 2019-03-31 23:32:54 2019-03-31 23:37:50 2846         \n",
       "365060 22178518 2019-03-31 23:33:02 2019-03-31 23:43:15 2772         \n",
       "365061 22178519 2019-03-31 23:33:14 2019-03-31 23:37:40 4304         \n",
       "365062 22178520 2019-03-31 23:34:08 2019-03-31 23:38:07  667         \n",
       "365063 22178521 2019-03-31 23:39:48 2019-03-31 23:41:41 4814         \n",
       "365064 22178522 2019-03-31 23:47:05 2019-03-31 23:51:35 3873         \n",
       "365065 22178524 2019-03-31 23:51:32 2019-04-01 0:04:09  1501         \n",
       "365066 22178525 2019-03-31 23:52:37 2019-03-31 23:58:09 3270         \n",
       "365067 22178526 2019-03-31 23:52:38 2019-04-01 0:06:44  3584         \n",
       "365068 22178527 2019-03-31 23:53:08 2019-03-31 23:56:06 4384         \n",
       "365069 22178528 2019-03-31 23:53:48 2019-04-01 0:01:16  5589         \n",
       "       tripduration start_station_id start_station_name                 \n",
       "1      390          199              Wabash Ave & Grand Ave             \n",
       "2      441           44              State St & Randolph St             \n",
       "3      829           15              Racine Ave & 18th St               \n",
       "4      1,783.00     123              California Ave & Milwaukee Ave     \n",
       "5      364          173              Mies van der Rohe Way & Chicago Ave\n",
       "6      216           98              LaSalle St & Washington St         \n",
       "7      177           98              LaSalle St & Washington St         \n",
       "8      100          211              St. Clair St & Erie St             \n",
       "9      1,727.00     150              Fort Dearborn Dr & 31st St         \n",
       "10     336          268              Lake Shore Dr & North Blvd         \n",
       "11     886          299              Halsted St & Roscoe St             \n",
       "12     653          204              Prairie Ave & Garfield Blvd        \n",
       "13     601           90              Millennium Park                    \n",
       "14     562           90              Millennium Park                    \n",
       "15     906          289              Wells St & Concord Ln              \n",
       "16     892          289              Wells St & Concord Ln              \n",
       "17     407          152              Lincoln Ave & Diversey Pkwy        \n",
       "18     1,356.00     268              Lake Shore Dr & North Blvd         \n",
       "19     102           35              Streeter Dr & Grand Ave            \n",
       "20     2,333.00      35              Streeter Dr & Grand Ave            \n",
       "21     960           47              State St & Kinzie St               \n",
       "22     2,301.00      35              Streeter Dr & Grand Ave            \n",
       "23     1,168.00      85              Michigan Ave & Oak St              \n",
       "24     474          289              Wells St & Concord Ln              \n",
       "25     1,036.00      13              Wilton Ave & Diversey Pkwy         \n",
       "26     230          520              Greenview Ave & Jarvis Ave         \n",
       "27     747          256              Broadway & Sheridan Rd             \n",
       "28     711          256              Broadway & Sheridan Rd             \n",
       "29     553          254              Pine Grove Ave & Irving Park Rd    \n",
       "30     521           66              Clinton St & Lake St               \n",
       "⋮      ⋮            ⋮                ⋮                                  \n",
       "365040 178          460              Clark St & Bryn Mawr Ave           \n",
       "365041 529           47              State St & Kinzie St               \n",
       "365042 402          108              Halsted St & Polk St               \n",
       "365043 492          108              Halsted St & Polk St               \n",
       "365044 123           66              Clinton St & Lake St               \n",
       "365045 635           51              Clark St & Randolph St             \n",
       "365046 532           98              LaSalle St & Washington St         \n",
       "365047 741          301              Clark St & Schiller St             \n",
       "365048 739          295              Broadway & Argyle St               \n",
       "365049 590          114              Sheffield Ave & Waveland Ave       \n",
       "365050 674           50              Clark St & Ida B Wells Dr          \n",
       "365051 552          111              Sedgwick St & Huron St             \n",
       "365052 274           16              Paulina Ave & North Ave            \n",
       "365053 345          173              Mies van der Rohe Way & Chicago Ave\n",
       "365054 718          301              Clark St & Schiller St             \n",
       "365055 456          115              Sheffield Ave & Wellington Ave     \n",
       "365056 245          325              Clark St & Winnemac Ave            \n",
       "365057 684          403              Wentworth Ave & 33rd St            \n",
       "365058 239          309              Leavitt St & Armitage Ave          \n",
       "365059 296          181              LaSalle St & Illinois St           \n",
       "365060 613          210              Ashland Ave & Division St          \n",
       "365061 266          181              LaSalle St & Illinois St           \n",
       "365062 239          199              Wabash Ave & Grand Ave             \n",
       "365063 113          198              Green St & Madison St              \n",
       "365064 270           69              Damen Ave & Pierce Ave             \n",
       "365065 757           38              Clark St & Lake St                 \n",
       "365066 332          129              Blue Island Ave & 18th St          \n",
       "365067 846          283              LaSalle St & Jackson Blvd          \n",
       "365068 178          321              Wabash Ave & 9th St                \n",
       "365069 448          248              Woodlawn Ave & 55th St             \n",
       "       end_station_id end_station_name                     member_casual gender\n",
       "1       84            Milwaukee Ave & Grand Ave            Subscriber    Male  \n",
       "2      624            Dearborn St & Van Buren St (*)       Subscriber    Female\n",
       "3      644            Western Ave & Fillmore St (*)        Subscriber    Female\n",
       "4      176            Clark St & Elm St                    Subscriber    Male  \n",
       "5       35            Streeter Dr & Grand Ave              Subscriber    Male  \n",
       "6       49            Dearborn St & Monroe St              Subscriber    Female\n",
       "7       49            Dearborn St & Monroe St              Subscriber    Male  \n",
       "8      142            McClurg Ct & Erie St                 Subscriber    Male  \n",
       "9      148            State St & 33rd St                   Subscriber    Male  \n",
       "10     141            Clark St & Lincoln Ave               Subscriber    Male  \n",
       "11     295            Broadway & Argyle St                 Subscriber    Male  \n",
       "12     420            Ellis Ave & 55th St                  Subscriber    Female\n",
       "13     255            Indiana Ave & Roosevelt Rd           Subscriber    Male  \n",
       "14     255            Indiana Ave & Roosevelt Rd           Customer      Female\n",
       "15     324            Stockton Dr & Wrightwood Ave         Subscriber    Female\n",
       "16     324            Stockton Dr & Wrightwood Ave         Subscriber    Female\n",
       "17     166            Ashland Ave & Wrightwood Ave         Subscriber    Male  \n",
       "18     319            Greenview Ave & Diversey Pkwy        Customer      Female\n",
       "19      35            Streeter Dr & Grand Ave              Subscriber    Male  \n",
       "20      39            Wabash Ave & Adams St                Customer            \n",
       "21     111            Sedgwick St & Huron St               Subscriber    Male  \n",
       "22      39            Wabash Ave & Adams St                Customer            \n",
       "23     329            Lake Shore Dr & Diversey Pkwy        Subscriber    Male  \n",
       "24     313            Lakeview Ave & Fullerton Pkwy        Subscriber    Male  \n",
       "25      61            Wood St & Milwaukee Ave              Subscriber    Male  \n",
       "26     523            Eastlake Ter & Rogers Ave            Subscriber    Male  \n",
       "27     297            Paulina St & Montrose Ave            Subscriber    Male  \n",
       "28     297            Paulina St & Montrose Ave            Subscriber    Male  \n",
       "29     465            Marine Dr & Ainslie St               Subscriber    Male  \n",
       "30      52            Michigan Ave & Lake St               Subscriber    Male  \n",
       "⋮      ⋮              ⋮                                    ⋮             ⋮     \n",
       "365040 461            Broadway & Ridge Ave                 Subscriber    Male  \n",
       "365041  26            McClurg Ct & Illinois St             Subscriber    Male  \n",
       "365042  19            Loomis St & Taylor St (*)            Subscriber    Male  \n",
       "365043  41            Federal St & Polk St                 Subscriber    Male  \n",
       "365044  77            Clinton St & Madison St              Subscriber    Female\n",
       "365045 364            Larrabee St & Oak St                 Subscriber    Male  \n",
       "365046  22            May St & Taylor St                   Customer      Male  \n",
       "365047 115            Sheffield Ave & Wellington Ave       Subscriber    Male  \n",
       "365048 451            Sheridan Rd & Loyola Ave             Subscriber    Male  \n",
       "365049 330            Lincoln Ave & Addison St             Subscriber    Female\n",
       "365050  50            Clark St & Ida B Wells Dr            Subscriber    Male  \n",
       "365051 301            Clark St & Schiller St               Subscriber    Male  \n",
       "365052 158            Milwaukee Ave & Wabansia Ave         Subscriber    Male  \n",
       "365053 172            Rush St & Cedar St                   Subscriber    Male  \n",
       "365054 210            Ashland Ave & Division St            Subscriber    Male  \n",
       "365055 313            Lakeview Ave & Fullerton Pkwy        Subscriber    Male  \n",
       "365056 464            Damen Ave & Foster Ave               Subscriber    Male  \n",
       "365057 263            Rhodes Ave & 32nd St                 Subscriber    Male  \n",
       "365058 219            Damen Ave & Cortland St              Subscriber    Male  \n",
       "365059  24            Fairbanks Ct & Grand Ave             Customer            \n",
       "365060 210            Ashland Ave & Division St            Subscriber    Male  \n",
       "365061  24            Fairbanks Ct & Grand Ave             Customer            \n",
       "365062  26            McClurg Ct & Illinois St             Subscriber    Female\n",
       "365063 233            Sangamon St & Washington Blvd (*)    Subscriber    Male  \n",
       "365064 183            Damen Ave & Thomas St (Augusta Blvd) Subscriber    Male  \n",
       "365065  29            Noble St & Milwaukee Ave             Subscriber    Male  \n",
       "365066 202            Halsted St & 18th St                 Subscriber    Male  \n",
       "365067 273            Michigan Ave & 18th St               Subscriber    Male  \n",
       "365068  39            Wabash Ave & Adams St                Subscriber    Male  \n",
       "365069 247            Shore Dr & 55th St                   Subscriber    Male  \n",
       "       birthyear\n",
       "1      1989     \n",
       "2      1990     \n",
       "3      1994     \n",
       "4      1993     \n",
       "5      1994     \n",
       "6      1983     \n",
       "7      1984     \n",
       "8      1990     \n",
       "9      1995     \n",
       "10     1996     \n",
       "11     1994     \n",
       "12     1994     \n",
       "13     1986     \n",
       "14     1990     \n",
       "15     1989     \n",
       "16     1989     \n",
       "17     1967     \n",
       "18     1990     \n",
       "19     1985     \n",
       "20       NA     \n",
       "21     1957     \n",
       "22       NA     \n",
       "23     1959     \n",
       "24     1994     \n",
       "25     1991     \n",
       "26     1961     \n",
       "27     1968     \n",
       "28     1964     \n",
       "29     1990     \n",
       "30     1994     \n",
       "⋮      ⋮        \n",
       "365040 1986     \n",
       "365041 1990     \n",
       "365042 1992     \n",
       "365043 1992     \n",
       "365044 1985     \n",
       "365045 1972     \n",
       "365046 1993     \n",
       "365047 1988     \n",
       "365048 1992     \n",
       "365049 1985     \n",
       "365050 1957     \n",
       "365051 1994     \n",
       "365052 1991     \n",
       "365053 1980     \n",
       "365054 1988     \n",
       "365055 1987     \n",
       "365056 1983     \n",
       "365057 1984     \n",
       "365058 1970     \n",
       "365059   NA     \n",
       "365060 1972     \n",
       "365061   NA     \n",
       "365062 1984     \n",
       "365063 1971     \n",
       "365064 1985     \n",
       "365065 1993     \n",
       "365066 1992     \n",
       "365067 1984     \n",
       "365068 1969     \n",
       "365069 1998     "
      ]
     },
     "metadata": {},
     "output_type": "display_data"
    },
    {
     "data": {
      "text/plain": [
       "\n",
       "casual member \n",
       " 71643 720313 "
      ]
     },
     "metadata": {},
     "output_type": "display_data"
    },
    {
     "data": {
      "text/html": [
       "FALSE"
      ],
      "text/latex": [
       "FALSE"
      ],
      "text/markdown": [
       "FALSE"
      ],
      "text/plain": [
       "[1] FALSE"
      ]
     },
     "metadata": {},
     "output_type": "display_data"
    },
    {
     "data": {
      "text/html": [
       "TRUE"
      ],
      "text/latex": [
       "TRUE"
      ],
      "text/markdown": [
       "TRUE"
      ],
      "text/plain": [
       "[1] TRUE"
      ]
     },
     "metadata": {},
     "output_type": "display_data"
    },
    {
     "data": {
      "text/html": [
       "1189.45868820803"
      ],
      "text/latex": [
       "1189.45868820803"
      ],
      "text/markdown": [
       "1189.45868820803"
      ],
      "text/plain": [
       "[1] 1189.459"
      ]
     },
     "metadata": {},
     "output_type": "display_data"
    },
    {
     "data": {
      "text/html": [
       "539"
      ],
      "text/latex": [
       "539"
      ],
      "text/markdown": [
       "539"
      ],
      "text/plain": [
       "[1] 539"
      ]
     },
     "metadata": {},
     "output_type": "display_data"
    },
    {
     "data": {
      "text/html": [
       "10632022"
      ],
      "text/latex": [
       "10632022"
      ],
      "text/markdown": [
       "10632022"
      ],
      "text/plain": [
       "[1] 10632022"
      ]
     },
     "metadata": {},
     "output_type": "display_data"
    },
    {
     "data": {
      "text/html": [
       "1"
      ],
      "text/latex": [
       "1"
      ],
      "text/markdown": [
       "1"
      ],
      "text/plain": [
       "[1] 1"
      ]
     },
     "metadata": {},
     "output_type": "display_data"
    },
    {
     "data": {
      "text/html": [
       "<table class=\"dataframe\">\n",
       "<caption>A data.frame: 2 × 2</caption>\n",
       "<thead>\n",
       "\t<tr><th scope=col>all_trips_v2$member_casual</th><th scope=col>all_trips_v2$ride_length</th></tr>\n",
       "\t<tr><th scope=col>&lt;chr&gt;</th><th scope=col>&lt;dbl&gt;</th></tr>\n",
       "</thead>\n",
       "<tbody>\n",
       "\t<tr><td>casual</td><td>5372.7839</td></tr>\n",
       "\t<tr><td>member</td><td> 795.2523</td></tr>\n",
       "</tbody>\n",
       "</table>\n"
      ],
      "text/latex": [
       "A data.frame: 2 × 2\n",
       "\\begin{tabular}{ll}\n",
       " all\\_trips\\_v2\\$member\\_casual & all\\_trips\\_v2\\$ride\\_length\\\\\n",
       " <chr> & <dbl>\\\\\n",
       "\\hline\n",
       "\t casual & 5372.7839\\\\\n",
       "\t member &  795.2523\\\\\n",
       "\\end{tabular}\n"
      ],
      "text/markdown": [
       "\n",
       "A data.frame: 2 × 2\n",
       "\n",
       "| all_trips_v2$member_casual &lt;chr&gt; | all_trips_v2$ride_length &lt;dbl&gt; |\n",
       "|---|---|\n",
       "| casual | 5372.7839 |\n",
       "| member |  795.2523 |\n",
       "\n"
      ],
      "text/plain": [
       "  all_trips_v2$member_casual all_trips_v2$ride_length\n",
       "1 casual                     5372.7839               \n",
       "2 member                      795.2523               "
      ]
     },
     "metadata": {},
     "output_type": "display_data"
    },
    {
     "data": {
      "text/html": [
       "<table class=\"dataframe\">\n",
       "<caption>A data.frame: 2 × 2</caption>\n",
       "<thead>\n",
       "\t<tr><th scope=col>all_trips_v2$member_casual</th><th scope=col>all_trips_v2$ride_length</th></tr>\n",
       "\t<tr><th scope=col>&lt;chr&gt;</th><th scope=col>&lt;dbl&gt;</th></tr>\n",
       "</thead>\n",
       "<tbody>\n",
       "\t<tr><td>casual</td><td>1393</td></tr>\n",
       "\t<tr><td>member</td><td> 508</td></tr>\n",
       "</tbody>\n",
       "</table>\n"
      ],
      "text/latex": [
       "A data.frame: 2 × 2\n",
       "\\begin{tabular}{ll}\n",
       " all\\_trips\\_v2\\$member\\_casual & all\\_trips\\_v2\\$ride\\_length\\\\\n",
       " <chr> & <dbl>\\\\\n",
       "\\hline\n",
       "\t casual & 1393\\\\\n",
       "\t member &  508\\\\\n",
       "\\end{tabular}\n"
      ],
      "text/markdown": [
       "\n",
       "A data.frame: 2 × 2\n",
       "\n",
       "| all_trips_v2$member_casual &lt;chr&gt; | all_trips_v2$ride_length &lt;dbl&gt; |\n",
       "|---|---|\n",
       "| casual | 1393 |\n",
       "| member |  508 |\n",
       "\n"
      ],
      "text/plain": [
       "  all_trips_v2$member_casual all_trips_v2$ride_length\n",
       "1 casual                     1393                    \n",
       "2 member                      508                    "
      ]
     },
     "metadata": {},
     "output_type": "display_data"
    },
    {
     "data": {
      "text/html": [
       "<table class=\"dataframe\">\n",
       "<caption>A data.frame: 2 × 2</caption>\n",
       "<thead>\n",
       "\t<tr><th scope=col>all_trips_v2$member_casual</th><th scope=col>all_trips_v2$ride_length</th></tr>\n",
       "\t<tr><th scope=col>&lt;chr&gt;</th><th scope=col>&lt;dbl&gt;</th></tr>\n",
       "</thead>\n",
       "<tbody>\n",
       "\t<tr><td>casual</td><td>10632022</td></tr>\n",
       "\t<tr><td>member</td><td> 6096428</td></tr>\n",
       "</tbody>\n",
       "</table>\n"
      ],
      "text/latex": [
       "A data.frame: 2 × 2\n",
       "\\begin{tabular}{ll}\n",
       " all\\_trips\\_v2\\$member\\_casual & all\\_trips\\_v2\\$ride\\_length\\\\\n",
       " <chr> & <dbl>\\\\\n",
       "\\hline\n",
       "\t casual & 10632022\\\\\n",
       "\t member &  6096428\\\\\n",
       "\\end{tabular}\n"
      ],
      "text/markdown": [
       "\n",
       "A data.frame: 2 × 2\n",
       "\n",
       "| all_trips_v2$member_casual &lt;chr&gt; | all_trips_v2$ride_length &lt;dbl&gt; |\n",
       "|---|---|\n",
       "| casual | 10632022 |\n",
       "| member |  6096428 |\n",
       "\n"
      ],
      "text/plain": [
       "  all_trips_v2$member_casual all_trips_v2$ride_length\n",
       "1 casual                     10632022                \n",
       "2 member                      6096428                "
      ]
     },
     "metadata": {},
     "output_type": "display_data"
    },
    {
     "data": {
      "text/html": [
       "<table class=\"dataframe\">\n",
       "<caption>A data.frame: 2 × 2</caption>\n",
       "<thead>\n",
       "\t<tr><th scope=col>all_trips_v2$member_casual</th><th scope=col>all_trips_v2$ride_length</th></tr>\n",
       "\t<tr><th scope=col>&lt;chr&gt;</th><th scope=col>&lt;dbl&gt;</th></tr>\n",
       "</thead>\n",
       "<tbody>\n",
       "\t<tr><td>casual</td><td>2</td></tr>\n",
       "\t<tr><td>member</td><td>1</td></tr>\n",
       "</tbody>\n",
       "</table>\n"
      ],
      "text/latex": [
       "A data.frame: 2 × 2\n",
       "\\begin{tabular}{ll}\n",
       " all\\_trips\\_v2\\$member\\_casual & all\\_trips\\_v2\\$ride\\_length\\\\\n",
       " <chr> & <dbl>\\\\\n",
       "\\hline\n",
       "\t casual & 2\\\\\n",
       "\t member & 1\\\\\n",
       "\\end{tabular}\n"
      ],
      "text/markdown": [
       "\n",
       "A data.frame: 2 × 2\n",
       "\n",
       "| all_trips_v2$member_casual &lt;chr&gt; | all_trips_v2$ride_length &lt;dbl&gt; |\n",
       "|---|---|\n",
       "| casual | 2 |\n",
       "| member | 1 |\n",
       "\n"
      ],
      "text/plain": [
       "  all_trips_v2$member_casual all_trips_v2$ride_length\n",
       "1 casual                     2                       \n",
       "2 member                     1                       "
      ]
     },
     "metadata": {},
     "output_type": "display_data"
    },
    {
     "data": {
      "text/html": [
       "<table class=\"dataframe\">\n",
       "<caption>A data.frame: 14 × 3</caption>\n",
       "<thead>\n",
       "\t<tr><th scope=col>all_trips_v2$member_casual</th><th scope=col>all_trips_v2$day_of_week</th><th scope=col>all_trips_v2$ride_length</th></tr>\n",
       "\t<tr><th scope=col>&lt;chr&gt;</th><th scope=col>&lt;chr&gt;</th><th scope=col>&lt;dbl&gt;</th></tr>\n",
       "</thead>\n",
       "<tbody>\n",
       "\t<tr><td>casual</td><td>Friday   </td><td>6090.7373</td></tr>\n",
       "\t<tr><td>member</td><td>Friday   </td><td> 796.7338</td></tr>\n",
       "\t<tr><td>casual</td><td>Monday   </td><td>4752.0504</td></tr>\n",
       "\t<tr><td>member</td><td>Monday   </td><td> 822.3112</td></tr>\n",
       "\t<tr><td>casual</td><td>Saturday </td><td>4950.7708</td></tr>\n",
       "\t<tr><td>member</td><td>Saturday </td><td> 974.0730</td></tr>\n",
       "\t<tr><td>casual</td><td>Sunday   </td><td>5061.3044</td></tr>\n",
       "\t<tr><td>member</td><td>Sunday   </td><td> 972.9383</td></tr>\n",
       "\t<tr><td>casual</td><td>Thursday </td><td>8451.6669</td></tr>\n",
       "\t<tr><td>member</td><td>Thursday </td><td> 707.2093</td></tr>\n",
       "\t<tr><td>casual</td><td>Tuesday  </td><td>4561.8039</td></tr>\n",
       "\t<tr><td>member</td><td>Tuesday  </td><td> 769.4416</td></tr>\n",
       "\t<tr><td>casual</td><td>Wednesday</td><td>4480.3724</td></tr>\n",
       "\t<tr><td>member</td><td>Wednesday</td><td> 711.9838</td></tr>\n",
       "</tbody>\n",
       "</table>\n"
      ],
      "text/latex": [
       "A data.frame: 14 × 3\n",
       "\\begin{tabular}{lll}\n",
       " all\\_trips\\_v2\\$member\\_casual & all\\_trips\\_v2\\$day\\_of\\_week & all\\_trips\\_v2\\$ride\\_length\\\\\n",
       " <chr> & <chr> & <dbl>\\\\\n",
       "\\hline\n",
       "\t casual & Friday    & 6090.7373\\\\\n",
       "\t member & Friday    &  796.7338\\\\\n",
       "\t casual & Monday    & 4752.0504\\\\\n",
       "\t member & Monday    &  822.3112\\\\\n",
       "\t casual & Saturday  & 4950.7708\\\\\n",
       "\t member & Saturday  &  974.0730\\\\\n",
       "\t casual & Sunday    & 5061.3044\\\\\n",
       "\t member & Sunday    &  972.9383\\\\\n",
       "\t casual & Thursday  & 8451.6669\\\\\n",
       "\t member & Thursday  &  707.2093\\\\\n",
       "\t casual & Tuesday   & 4561.8039\\\\\n",
       "\t member & Tuesday   &  769.4416\\\\\n",
       "\t casual & Wednesday & 4480.3724\\\\\n",
       "\t member & Wednesday &  711.9838\\\\\n",
       "\\end{tabular}\n"
      ],
      "text/markdown": [
       "\n",
       "A data.frame: 14 × 3\n",
       "\n",
       "| all_trips_v2$member_casual &lt;chr&gt; | all_trips_v2$day_of_week &lt;chr&gt; | all_trips_v2$ride_length &lt;dbl&gt; |\n",
       "|---|---|---|\n",
       "| casual | Friday    | 6090.7373 |\n",
       "| member | Friday    |  796.7338 |\n",
       "| casual | Monday    | 4752.0504 |\n",
       "| member | Monday    |  822.3112 |\n",
       "| casual | Saturday  | 4950.7708 |\n",
       "| member | Saturday  |  974.0730 |\n",
       "| casual | Sunday    | 5061.3044 |\n",
       "| member | Sunday    |  972.9383 |\n",
       "| casual | Thursday  | 8451.6669 |\n",
       "| member | Thursday  |  707.2093 |\n",
       "| casual | Tuesday   | 4561.8039 |\n",
       "| member | Tuesday   |  769.4416 |\n",
       "| casual | Wednesday | 4480.3724 |\n",
       "| member | Wednesday |  711.9838 |\n",
       "\n"
      ],
      "text/plain": [
       "   all_trips_v2$member_casual all_trips_v2$day_of_week all_trips_v2$ride_length\n",
       "1  casual                     Friday                   6090.7373               \n",
       "2  member                     Friday                    796.7338               \n",
       "3  casual                     Monday                   4752.0504               \n",
       "4  member                     Monday                    822.3112               \n",
       "5  casual                     Saturday                 4950.7708               \n",
       "6  member                     Saturday                  974.0730               \n",
       "7  casual                     Sunday                   5061.3044               \n",
       "8  member                     Sunday                    972.9383               \n",
       "9  casual                     Thursday                 8451.6669               \n",
       "10 member                     Thursday                  707.2093               \n",
       "11 casual                     Tuesday                  4561.8039               \n",
       "12 member                     Tuesday                   769.4416               \n",
       "13 casual                     Wednesday                4480.3724               \n",
       "14 member                     Wednesday                 711.9838               "
      ]
     },
     "metadata": {},
     "output_type": "display_data"
    },
    {
     "data": {
      "text/html": [
       "<table class=\"dataframe\">\n",
       "<caption>A data.frame: 14 × 3</caption>\n",
       "<thead>\n",
       "\t<tr><th scope=col>all_trips_v2$member_casual</th><th scope=col>all_trips_v2$day_of_week</th><th scope=col>all_trips_v2$ride_length</th></tr>\n",
       "\t<tr><th scope=col>&lt;chr&gt;</th><th scope=col>&lt;chr&gt;</th><th scope=col>&lt;dbl&gt;</th></tr>\n",
       "</thead>\n",
       "<tbody>\n",
       "\t<tr><td>casual</td><td>Friday   </td><td>6090.7373</td></tr>\n",
       "\t<tr><td>member</td><td>Friday   </td><td> 796.7338</td></tr>\n",
       "\t<tr><td>casual</td><td>Monday   </td><td>4752.0504</td></tr>\n",
       "\t<tr><td>member</td><td>Monday   </td><td> 822.3112</td></tr>\n",
       "\t<tr><td>casual</td><td>Saturday </td><td>4950.7708</td></tr>\n",
       "\t<tr><td>member</td><td>Saturday </td><td> 974.0730</td></tr>\n",
       "\t<tr><td>casual</td><td>Sunday   </td><td>5061.3044</td></tr>\n",
       "\t<tr><td>member</td><td>Sunday   </td><td> 972.9383</td></tr>\n",
       "\t<tr><td>casual</td><td>Thursday </td><td>8451.6669</td></tr>\n",
       "\t<tr><td>member</td><td>Thursday </td><td> 707.2093</td></tr>\n",
       "\t<tr><td>casual</td><td>Tuesday  </td><td>4561.8039</td></tr>\n",
       "\t<tr><td>member</td><td>Tuesday  </td><td> 769.4416</td></tr>\n",
       "\t<tr><td>casual</td><td>Wednesday</td><td>4480.3724</td></tr>\n",
       "\t<tr><td>member</td><td>Wednesday</td><td> 711.9838</td></tr>\n",
       "</tbody>\n",
       "</table>\n"
      ],
      "text/latex": [
       "A data.frame: 14 × 3\n",
       "\\begin{tabular}{lll}\n",
       " all\\_trips\\_v2\\$member\\_casual & all\\_trips\\_v2\\$day\\_of\\_week & all\\_trips\\_v2\\$ride\\_length\\\\\n",
       " <chr> & <chr> & <dbl>\\\\\n",
       "\\hline\n",
       "\t casual & Friday    & 6090.7373\\\\\n",
       "\t member & Friday    &  796.7338\\\\\n",
       "\t casual & Monday    & 4752.0504\\\\\n",
       "\t member & Monday    &  822.3112\\\\\n",
       "\t casual & Saturday  & 4950.7708\\\\\n",
       "\t member & Saturday  &  974.0730\\\\\n",
       "\t casual & Sunday    & 5061.3044\\\\\n",
       "\t member & Sunday    &  972.9383\\\\\n",
       "\t casual & Thursday  & 8451.6669\\\\\n",
       "\t member & Thursday  &  707.2093\\\\\n",
       "\t casual & Tuesday   & 4561.8039\\\\\n",
       "\t member & Tuesday   &  769.4416\\\\\n",
       "\t casual & Wednesday & 4480.3724\\\\\n",
       "\t member & Wednesday &  711.9838\\\\\n",
       "\\end{tabular}\n"
      ],
      "text/markdown": [
       "\n",
       "A data.frame: 14 × 3\n",
       "\n",
       "| all_trips_v2$member_casual &lt;chr&gt; | all_trips_v2$day_of_week &lt;chr&gt; | all_trips_v2$ride_length &lt;dbl&gt; |\n",
       "|---|---|---|\n",
       "| casual | Friday    | 6090.7373 |\n",
       "| member | Friday    |  796.7338 |\n",
       "| casual | Monday    | 4752.0504 |\n",
       "| member | Monday    |  822.3112 |\n",
       "| casual | Saturday  | 4950.7708 |\n",
       "| member | Saturday  |  974.0730 |\n",
       "| casual | Sunday    | 5061.3044 |\n",
       "| member | Sunday    |  972.9383 |\n",
       "| casual | Thursday  | 8451.6669 |\n",
       "| member | Thursday  |  707.2093 |\n",
       "| casual | Tuesday   | 4561.8039 |\n",
       "| member | Tuesday   |  769.4416 |\n",
       "| casual | Wednesday | 4480.3724 |\n",
       "| member | Wednesday |  711.9838 |\n",
       "\n"
      ],
      "text/plain": [
       "   all_trips_v2$member_casual all_trips_v2$day_of_week all_trips_v2$ride_length\n",
       "1  casual                     Friday                   6090.7373               \n",
       "2  member                     Friday                    796.7338               \n",
       "3  casual                     Monday                   4752.0504               \n",
       "4  member                     Monday                    822.3112               \n",
       "5  casual                     Saturday                 4950.7708               \n",
       "6  member                     Saturday                  974.0730               \n",
       "7  casual                     Sunday                   5061.3044               \n",
       "8  member                     Sunday                    972.9383               \n",
       "9  casual                     Thursday                 8451.6669               \n",
       "10 member                     Thursday                  707.2093               \n",
       "11 casual                     Tuesday                  4561.8039               \n",
       "12 member                     Tuesday                   769.4416               \n",
       "13 casual                     Wednesday                4480.3724               \n",
       "14 member                     Wednesday                 711.9838               "
      ]
     },
     "metadata": {},
     "output_type": "display_data"
    },
    {
     "data": {
      "text/html": [
       "<table class=\"dataframe\">\n",
       "<caption>A data.frame: 14 × 3</caption>\n",
       "<thead>\n",
       "\t<tr><th scope=col>all_trips_v2$member_casual</th><th scope=col>all_trips_v2$day_of_week</th><th scope=col>all_trips_v2$ride_length</th></tr>\n",
       "\t<tr><th scope=col>&lt;chr&gt;</th><th scope=col>&lt;ord&gt;</th><th scope=col>&lt;dbl&gt;</th></tr>\n",
       "</thead>\n",
       "<tbody>\n",
       "\t<tr><td>casual</td><td>Sunday   </td><td>5061.3044</td></tr>\n",
       "\t<tr><td>member</td><td>Sunday   </td><td> 972.9383</td></tr>\n",
       "\t<tr><td>casual</td><td>Monday   </td><td>4752.0504</td></tr>\n",
       "\t<tr><td>member</td><td>Monday   </td><td> 822.3112</td></tr>\n",
       "\t<tr><td>casual</td><td>Tuesday  </td><td>4561.8039</td></tr>\n",
       "\t<tr><td>member</td><td>Tuesday  </td><td> 769.4416</td></tr>\n",
       "\t<tr><td>casual</td><td>Wednesday</td><td>4480.3724</td></tr>\n",
       "\t<tr><td>member</td><td>Wednesday</td><td> 711.9838</td></tr>\n",
       "\t<tr><td>casual</td><td>Thursday </td><td>8451.6669</td></tr>\n",
       "\t<tr><td>member</td><td>Thursday </td><td> 707.2093</td></tr>\n",
       "\t<tr><td>casual</td><td>Friday   </td><td>6090.7373</td></tr>\n",
       "\t<tr><td>member</td><td>Friday   </td><td> 796.7338</td></tr>\n",
       "\t<tr><td>casual</td><td>Saturday </td><td>4950.7708</td></tr>\n",
       "\t<tr><td>member</td><td>Saturday </td><td> 974.0730</td></tr>\n",
       "</tbody>\n",
       "</table>\n"
      ],
      "text/latex": [
       "A data.frame: 14 × 3\n",
       "\\begin{tabular}{lll}\n",
       " all\\_trips\\_v2\\$member\\_casual & all\\_trips\\_v2\\$day\\_of\\_week & all\\_trips\\_v2\\$ride\\_length\\\\\n",
       " <chr> & <ord> & <dbl>\\\\\n",
       "\\hline\n",
       "\t casual & Sunday    & 5061.3044\\\\\n",
       "\t member & Sunday    &  972.9383\\\\\n",
       "\t casual & Monday    & 4752.0504\\\\\n",
       "\t member & Monday    &  822.3112\\\\\n",
       "\t casual & Tuesday   & 4561.8039\\\\\n",
       "\t member & Tuesday   &  769.4416\\\\\n",
       "\t casual & Wednesday & 4480.3724\\\\\n",
       "\t member & Wednesday &  711.9838\\\\\n",
       "\t casual & Thursday  & 8451.6669\\\\\n",
       "\t member & Thursday  &  707.2093\\\\\n",
       "\t casual & Friday    & 6090.7373\\\\\n",
       "\t member & Friday    &  796.7338\\\\\n",
       "\t casual & Saturday  & 4950.7708\\\\\n",
       "\t member & Saturday  &  974.0730\\\\\n",
       "\\end{tabular}\n"
      ],
      "text/markdown": [
       "\n",
       "A data.frame: 14 × 3\n",
       "\n",
       "| all_trips_v2$member_casual &lt;chr&gt; | all_trips_v2$day_of_week &lt;ord&gt; | all_trips_v2$ride_length &lt;dbl&gt; |\n",
       "|---|---|---|\n",
       "| casual | Sunday    | 5061.3044 |\n",
       "| member | Sunday    |  972.9383 |\n",
       "| casual | Monday    | 4752.0504 |\n",
       "| member | Monday    |  822.3112 |\n",
       "| casual | Tuesday   | 4561.8039 |\n",
       "| member | Tuesday   |  769.4416 |\n",
       "| casual | Wednesday | 4480.3724 |\n",
       "| member | Wednesday |  711.9838 |\n",
       "| casual | Thursday  | 8451.6669 |\n",
       "| member | Thursday  |  707.2093 |\n",
       "| casual | Friday    | 6090.7373 |\n",
       "| member | Friday    |  796.7338 |\n",
       "| casual | Saturday  | 4950.7708 |\n",
       "| member | Saturday  |  974.0730 |\n",
       "\n"
      ],
      "text/plain": [
       "   all_trips_v2$member_casual all_trips_v2$day_of_week all_trips_v2$ride_length\n",
       "1  casual                     Sunday                   5061.3044               \n",
       "2  member                     Sunday                    972.9383               \n",
       "3  casual                     Monday                   4752.0504               \n",
       "4  member                     Monday                    822.3112               \n",
       "5  casual                     Tuesday                  4561.8039               \n",
       "6  member                     Tuesday                   769.4416               \n",
       "7  casual                     Wednesday                4480.3724               \n",
       "8  member                     Wednesday                 711.9838               \n",
       "9  casual                     Thursday                 8451.6669               \n",
       "10 member                     Thursday                  707.2093               \n",
       "11 casual                     Friday                   6090.7373               \n",
       "12 member                     Friday                    796.7338               \n",
       "13 casual                     Saturday                 4950.7708               \n",
       "14 member                     Saturday                  974.0730               "
      ]
     },
     "metadata": {},
     "output_type": "display_data"
    },
    {
     "name": "stderr",
     "output_type": "stream",
     "text": [
      "\u001b[1m\u001b[22m`summarise()` has grouped output by 'member_casual'. You can override using the\n",
      "`.groups` argument.\n"
     ]
    },
    {
     "data": {
      "text/html": [
       "<table class=\"dataframe\">\n",
       "<caption>A grouped_df: 14 × 4</caption>\n",
       "<thead>\n",
       "\t<tr><th scope=col>member_casual</th><th scope=col>weekday</th><th scope=col>number_of_rides</th><th scope=col>average_duration</th></tr>\n",
       "\t<tr><th scope=col>&lt;chr&gt;</th><th scope=col>&lt;ord&gt;</th><th scope=col>&lt;int&gt;</th><th scope=col>&lt;dbl&gt;</th></tr>\n",
       "</thead>\n",
       "<tbody>\n",
       "\t<tr><td>casual</td><td>Sun</td><td> 18652</td><td>5061.3044</td></tr>\n",
       "\t<tr><td>casual</td><td>Mon</td><td>  5591</td><td>4752.0504</td></tr>\n",
       "\t<tr><td>casual</td><td>Tue</td><td>  7311</td><td>4561.8039</td></tr>\n",
       "\t<tr><td>casual</td><td>Wed</td><td>  7690</td><td>4480.3724</td></tr>\n",
       "\t<tr><td>casual</td><td>Thu</td><td>  7147</td><td>8451.6669</td></tr>\n",
       "\t<tr><td>casual</td><td>Fri</td><td>  8013</td><td>6090.7373</td></tr>\n",
       "\t<tr><td>casual</td><td>Sat</td><td> 13473</td><td>4950.7708</td></tr>\n",
       "\t<tr><td>member</td><td>Sun</td><td> 60197</td><td> 972.9383</td></tr>\n",
       "\t<tr><td>member</td><td>Mon</td><td>110430</td><td> 822.3112</td></tr>\n",
       "\t<tr><td>member</td><td>Tue</td><td>127974</td><td> 769.4416</td></tr>\n",
       "\t<tr><td>member</td><td>Wed</td><td>121902</td><td> 711.9838</td></tr>\n",
       "\t<tr><td>member</td><td>Thu</td><td>125228</td><td> 707.2093</td></tr>\n",
       "\t<tr><td>member</td><td>Fri</td><td>115168</td><td> 796.7338</td></tr>\n",
       "\t<tr><td>member</td><td>Sat</td><td> 59413</td><td> 974.0730</td></tr>\n",
       "</tbody>\n",
       "</table>\n"
      ],
      "text/latex": [
       "A grouped\\_df: 14 × 4\n",
       "\\begin{tabular}{llll}\n",
       " member\\_casual & weekday & number\\_of\\_rides & average\\_duration\\\\\n",
       " <chr> & <ord> & <int> & <dbl>\\\\\n",
       "\\hline\n",
       "\t casual & Sun &  18652 & 5061.3044\\\\\n",
       "\t casual & Mon &   5591 & 4752.0504\\\\\n",
       "\t casual & Tue &   7311 & 4561.8039\\\\\n",
       "\t casual & Wed &   7690 & 4480.3724\\\\\n",
       "\t casual & Thu &   7147 & 8451.6669\\\\\n",
       "\t casual & Fri &   8013 & 6090.7373\\\\\n",
       "\t casual & Sat &  13473 & 4950.7708\\\\\n",
       "\t member & Sun &  60197 &  972.9383\\\\\n",
       "\t member & Mon & 110430 &  822.3112\\\\\n",
       "\t member & Tue & 127974 &  769.4416\\\\\n",
       "\t member & Wed & 121902 &  711.9838\\\\\n",
       "\t member & Thu & 125228 &  707.2093\\\\\n",
       "\t member & Fri & 115168 &  796.7338\\\\\n",
       "\t member & Sat &  59413 &  974.0730\\\\\n",
       "\\end{tabular}\n"
      ],
      "text/markdown": [
       "\n",
       "A grouped_df: 14 × 4\n",
       "\n",
       "| member_casual &lt;chr&gt; | weekday &lt;ord&gt; | number_of_rides &lt;int&gt; | average_duration &lt;dbl&gt; |\n",
       "|---|---|---|---|\n",
       "| casual | Sun |  18652 | 5061.3044 |\n",
       "| casual | Mon |   5591 | 4752.0504 |\n",
       "| casual | Tue |   7311 | 4561.8039 |\n",
       "| casual | Wed |   7690 | 4480.3724 |\n",
       "| casual | Thu |   7147 | 8451.6669 |\n",
       "| casual | Fri |   8013 | 6090.7373 |\n",
       "| casual | Sat |  13473 | 4950.7708 |\n",
       "| member | Sun |  60197 |  972.9383 |\n",
       "| member | Mon | 110430 |  822.3112 |\n",
       "| member | Tue | 127974 |  769.4416 |\n",
       "| member | Wed | 121902 |  711.9838 |\n",
       "| member | Thu | 125228 |  707.2093 |\n",
       "| member | Fri | 115168 |  796.7338 |\n",
       "| member | Sat |  59413 |  974.0730 |\n",
       "\n"
      ],
      "text/plain": [
       "   member_casual weekday number_of_rides average_duration\n",
       "1  casual        Sun      18652          5061.3044       \n",
       "2  casual        Mon       5591          4752.0504       \n",
       "3  casual        Tue       7311          4561.8039       \n",
       "4  casual        Wed       7690          4480.3724       \n",
       "5  casual        Thu       7147          8451.6669       \n",
       "6  casual        Fri       8013          6090.7373       \n",
       "7  casual        Sat      13473          4950.7708       \n",
       "8  member        Sun      60197           972.9383       \n",
       "9  member        Mon     110430           822.3112       \n",
       "10 member        Tue     127974           769.4416       \n",
       "11 member        Wed     121902           711.9838       \n",
       "12 member        Thu     125228           707.2093       \n",
       "13 member        Fri     115168           796.7338       \n",
       "14 member        Sat      59413           974.0730       "
      ]
     },
     "metadata": {},
     "output_type": "display_data"
    }
   ],
   "source": [
    "(q1_2019 <- rename(q1_2019\n",
    "                   ,ride_id = trip_id\n",
    "                   ,rideable_type = bikeid\n",
    "                   ,started_at = start_time\n",
    "                   ,ended_at = end_time\n",
    "                   ,start_station_name = from_station_name\n",
    "                   ,start_station_id = from_station_id\n",
    "                   ,end_station_name = to_station_name\n",
    "                   ,end_station_id = to_station_id\n",
    "                   ,member_casual = usertype\n",
    "))\n",
    "\n",
    "#Checking data attributes-----\n",
    "\n",
    "##str(q1_2019)\n",
    "##str(q1_2020)\n",
    "\n",
    "q1_2019 <- mutate(q1_2019, ride_id = as.character(ride_id)\n",
    "                  ,rideable_type = as.character(rideable_type))\n",
    "\n",
    "all_trips <- bind_rows(q1_2019, q1_2020)#, q3_2019)#, q4_2019, q1_2020)\n",
    "\n",
    "all_trips <- all_trips %>%\n",
    "  select(-c(start_lat, start_lng, end_lat, end_lng, birthyear, gender, \"tripduration\"))\n",
    "\n",
    "#Checking data attributes-----\n",
    "\n",
    "##colnames(all_trips)\n",
    "##nrow(all_trips)\n",
    "##dim(all_trips)\n",
    "##head(all_trips)\n",
    "##str(all_trips)\n",
    "##summary(all_trips)\n",
    "\n",
    "all_trips <- all_trips %>%\n",
    "  mutate(member_casual = recode(member_casual\n",
    "                                ,\"Subscriber\" = \"member\"\n",
    "                                ,\"Customer\" = \"casual\"))\n",
    "\n",
    "table(all_trips$member_casual)\n",
    "all_trips$date <- as.Date(all_trips$started_at) #The default format is yyyy-mm-dd\n",
    "all_trips$month <- format(as.Date(all_trips$date), \"%m\")\n",
    "all_trips$day <- format(as.Date(all_trips$date), \"%d\")\n",
    "all_trips$year <- format(as.Date(all_trips$date), \"%Y\")\n",
    "all_trips$day_of_week <- format(as.Date(all_trips$date), \"%A\")\n",
    "all_trips$ride_length <- difftime(all_trips$ended_at,all_trips$started_at)\n",
    "\n",
    "is.factor(all_trips$ride_length)\n",
    "all_trips$ride_length <- as.numeric(as.character(all_trips$ride_length))\n",
    "is.numeric(all_trips$ride_length)\n",
    "\n",
    "all_trips_v2 <- all_trips[!(all_trips$start_station_name == \"HQ QR\" | all_trips$ride_length<0),]\n",
    "\n",
    "mean(all_trips_v2$ride_length) #straight average (total ride length / rides)\n",
    "median(all_trips_v2$ride_length) #midpoint number in the ascending array of ride lengths\n",
    "max(all_trips_v2$ride_length) #longest ride\n",
    "min(all_trips_v2$ride_length) #shortest ride\n",
    "\n",
    "#Checking table\n",
    "##summary(all_trips_v2$ride_length)\n",
    "\n",
    "aggregate(all_trips_v2$ride_length ~ all_trips_v2$member_casual, FUN = mean)\n",
    "aggregate(all_trips_v2$ride_length ~ all_trips_v2$member_casual, FUN = median)\n",
    "aggregate(all_trips_v2$ride_length ~ all_trips_v2$member_casual, FUN = max)\n",
    "aggregate(all_trips_v2$ride_length ~ all_trips_v2$member_casual, FUN = min)\n",
    "\n",
    "aggregate(all_trips_v2$ride_length ~ all_trips_v2$member_casual + all_trips_v2$day_of_week,\n",
    "          FUN = mean)\n",
    "aggregate(all_trips_v2$ride_length ~ all_trips_v2$member_casual + all_trips_v2$day_of_week,\n",
    "FUN = mean)\n",
    "\n",
    "all_trips_v2$day_of_week <- ordered(all_trips_v2$day_of_week, levels=c(\"Sunday\", \"Monday\", \"Tuesday\", \"Wednesday\", \"Thursday\", \"Friday\", \"Saturday\"))\n",
    "\n",
    "aggregate(all_trips_v2$ride_length ~ all_trips_v2$member_casual + all_trips_v2$day_of_week,\n",
    "          FUN = mean)\n",
    "\n",
    "all_trips_v2 %>%\n",
    "  mutate(weekday = wday(started_at, label = TRUE)) %>% #creates weekday field using wday()\n",
    "group_by(member_casual, weekday) %>% #groups by usertype and weekday\n",
    "  summarise(number_of_rides = n() #calculates the number of rides and average duration\n",
    "            ,average_duration = mean(ride_length)) %>% # calculates the average duration\n",
    "arrange(member_casual, weekday) # sorts"
   ]
  },
  {
   "cell_type": "code",
   "execution_count": 5,
   "id": "1eea32c3",
   "metadata": {
    "execution": {
     "iopub.execute_input": "2025-01-03T18:18:33.151686Z",
     "iopub.status.busy": "2025-01-03T18:18:33.150067Z",
     "iopub.status.idle": "2025-01-03T18:18:48.882881Z",
     "shell.execute_reply": "2025-01-03T18:18:48.879918Z"
    },
    "papermill": {
     "duration": 15.744863,
     "end_time": "2025-01-03T18:18:48.886619",
     "exception": false,
     "start_time": "2025-01-03T18:18:33.141756",
     "status": "completed"
    },
    "tags": []
   },
   "outputs": [
    {
     "name": "stderr",
     "output_type": "stream",
     "text": [
      "\u001b[1m\u001b[22m`summarise()` has grouped output by 'member_casual'. You can override using the\n",
      "`.groups` argument.\n"
     ]
    },
    {
     "name": "stderr",
     "output_type": "stream",
     "text": [
      "\u001b[1m\u001b[22m`summarise()` has grouped output by 'member_casual'. You can override using the\n",
      "`.groups` argument.\n"
     ]
    },
    {
     "data": {
      "image/png": "[encoded data removed]"
     },
     "metadata": {
      "image/png": {
       "height": 420,
       "width": 420
      }
     },
     "output_type": "display_data"
    },
    {
     "data": {
      "image/png": "[encoded data removed]"
     },
     "metadata": {
      "image/png": {
       "height": 420,
       "width": 420
      }
     },
     "output_type": "display_data"
    }
   ],
   "source": [
    "all_trips_v2 %>%\n",
    "  mutate(weekday = wday(started_at, label = TRUE)) %>%\n",
    "  group_by(member_casual, weekday) %>%\n",
    "  \n",
    "  summarise(number_of_rides = n()\n",
    "            ,average_duration = mean(ride_length)) %>%\n",
    "  arrange(member_casual, weekday) %>%\n",
    "  ggplot(aes(x = weekday, y = number_of_rides, fill = member_casual)) +\n",
    "  geom_col(position = \"dodge\")\n",
    "\n",
    "\n",
    "all_trips_v2 %>%\n",
    "  mutate(weekday = wday(started_at, label = TRUE)) %>%\n",
    "  group_by(member_casual, weekday) %>%\n",
    "  summarise(number_of_rides = n()\n",
    "            ,average_duration = mean(ride_length)) %>%\n",
    "  arrange(member_casual, weekday) %>%\n",
    "  ggplot(aes(x = weekday, y = average_duration, fill = member_casual)) +\n",
    "  geom_col(position = \"dodge\") +\n",
    "  ggtitle(\"Cyclistic bike-share: Casual vs Member\") +\n",
    "  labs(caption = (\"2019 and 2020 1st Quarter data\"), subtitle = (\"Average duration of riding a bike\"))"
   ]
  }
 ],
 "metadata": {
  "kaggle": {
   "accelerator": "none",
   "dataSources": [
    {
     "datasetId": 6419653,
     "sourceId": 10364880,
     "sourceType": "datasetVersion"
    }
   ],
   "dockerImageVersionId": 30822,
   "isGpuEnabled": false,
   "isInternetEnabled": false,
   "language": "r",
   "sourceType": "notebook"
  },
  "kernelspec": {
   "display_name": "R",
   "language": "R",
   "name": "ir"
  },
  "language_info": {
   "codemirror_mode": "r",
   "file_extension": ".r",
   "mimetype": "text/x-r-source",
   "name": "R",
   "pygments_lexer": "r",
   "version": "4.4.0"
  },
  "papermill": {
   "default_parameters": {},
   "duration": 250.203589,
   "end_time": "2025-01-03T18:18:49.117585",
   "environment_variables": {},
   "exception": null,
   "input_path": "__notebook__.ipynb",
   "output_path": "__notebook__.ipynb",
   "parameters": {},
   "start_time": "2025-01-03T18:14:38.913996",
   "version": "2.6.0"
  }
 },
 "nbformat": 4,
 "nbformat_minor": 5
}
